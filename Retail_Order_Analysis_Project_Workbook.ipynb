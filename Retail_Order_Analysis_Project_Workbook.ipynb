{
  "cells": [
    {
      "cell_type": "markdown",
      "metadata": {
        "id": "view-in-github",
        "colab_type": "text"
      },
      "source": [
        "<a href=\"https://colab.research.google.com/github/db050915/DS_Mentors_Project/blob/main/Retail_Order_Analysis_Project_Workbook.ipynb\" target=\"_parent\"><img src=\"https://colab.research.google.com/assets/colab-badge.svg\" alt=\"Open In Colab\"/></a>"
      ]
    },
    {
      "cell_type": "code",
      "execution_count": 1,
      "metadata": {
        "colab": {
          "base_uri": "https://localhost:8080/"
        },
        "id": "qWxRAfMA78T0",
        "outputId": "a37489b1-4e4b-4a46-f1d7-59d7cf851a88"
      },
      "outputs": [
        {
          "output_type": "stream",
          "name": "stdout",
          "text": [
            "Requirement already satisfied: kaggle in /usr/local/lib/python3.11/dist-packages (1.7.4.2)\n",
            "Requirement already satisfied: bleach in /usr/local/lib/python3.11/dist-packages (from kaggle) (6.2.0)\n",
            "Requirement already satisfied: certifi>=14.05.14 in /usr/local/lib/python3.11/dist-packages (from kaggle) (2025.1.31)\n",
            "Requirement already satisfied: charset-normalizer in /usr/local/lib/python3.11/dist-packages (from kaggle) (3.4.1)\n",
            "Requirement already satisfied: idna in /usr/local/lib/python3.11/dist-packages (from kaggle) (3.10)\n",
            "Requirement already satisfied: protobuf in /usr/local/lib/python3.11/dist-packages (from kaggle) (5.29.3)\n",
            "Requirement already satisfied: python-dateutil>=2.5.3 in /usr/local/lib/python3.11/dist-packages (from kaggle) (2.8.2)\n",
            "Requirement already satisfied: python-slugify in /usr/local/lib/python3.11/dist-packages (from kaggle) (8.0.4)\n",
            "Requirement already satisfied: requests in /usr/local/lib/python3.11/dist-packages (from kaggle) (2.32.3)\n",
            "Requirement already satisfied: setuptools>=21.0.0 in /usr/local/lib/python3.11/dist-packages (from kaggle) (75.1.0)\n",
            "Requirement already satisfied: six>=1.10 in /usr/local/lib/python3.11/dist-packages (from kaggle) (1.17.0)\n",
            "Requirement already satisfied: text-unidecode in /usr/local/lib/python3.11/dist-packages (from kaggle) (1.3)\n",
            "Requirement already satisfied: tqdm in /usr/local/lib/python3.11/dist-packages (from kaggle) (4.67.1)\n",
            "Requirement already satisfied: urllib3>=1.15.1 in /usr/local/lib/python3.11/dist-packages (from kaggle) (2.3.0)\n",
            "Requirement already satisfied: webencodings in /usr/local/lib/python3.11/dist-packages (from kaggle) (0.5.1)\n"
          ]
        }
      ],
      "source": [
        "!pip install kaggle"
      ]
    },
    {
      "cell_type": "code",
      "execution_count": 2,
      "metadata": {
        "colab": {
          "base_uri": "https://localhost:8080/"
        },
        "id": "AncCNk9IiI2S",
        "outputId": "468f39c4-e6d4-4e6f-ce9c-09c4650dff24"
      },
      "outputs": [
        {
          "output_type": "stream",
          "name": "stdout",
          "text": [
            "Traceback (most recent call last):\n",
            "  File \"/usr/local/bin/kaggle\", line 10, in <module>\n",
            "    sys.exit(main())\n",
            "             ^^^^^^\n",
            "  File \"/usr/local/lib/python3.11/dist-packages/kaggle/cli.py\", line 68, in main\n",
            "    out = args.func(**command_args)\n",
            "          ^^^^^^^^^^^^^^^^^^^^^^^^^\n",
            "  File \"/usr/local/lib/python3.11/dist-packages/kaggle/api/kaggle_api_extended.py\", line 1734, in dataset_download_cli\n",
            "    with self.build_kaggle_client() as kaggle:\n",
            "         ^^^^^^^^^^^^^^^^^^^^^^^^^^\n",
            "  File \"/usr/local/lib/python3.11/dist-packages/kaggle/api/kaggle_api_extended.py\", line 688, in build_kaggle_client\n",
            "    username=self.config_values['username'],\n",
            "             ~~~~~~~~~~~~~~~~~~^^^^^^^^^^^^\n",
            "KeyError: 'username'\n"
          ]
        }
      ],
      "source": [
        "!kaggle datasets download ankitbansal06/retail-orders -f orders.csv"
      ]
    },
    {
      "cell_type": "code",
      "execution_count": 4,
      "metadata": {
        "id": "89lRVbap12RS"
      },
      "outputs": [],
      "source": [
        "import zipfile\n",
        "import os\n",
        "\n",
        "with zipfile.ZipFile('/orders.csv.zip', 'r') as zip:\n",
        "    zip.extractall('./')"
      ]
    },
    {
      "cell_type": "code",
      "execution_count": 5,
      "metadata": {
        "id": "AX2bVrE94D1m"
      },
      "outputs": [],
      "source": [
        "import pandas as pd\n",
        "project1 = pd.read_csv('/content/orders.csv')"
      ]
    },
    {
      "cell_type": "code",
      "execution_count": 6,
      "metadata": {
        "colab": {
          "base_uri": "https://localhost:8080/",
          "height": 614
        },
        "collapsed": true,
        "id": "ZqUwIDB25jn7",
        "outputId": "8f362fe3-67fb-48e7-a908-2decee6e36c3"
      },
      "outputs": [
        {
          "output_type": "execute_result",
          "data": {
            "text/plain": [
              "      Order Id  Order Date       Ship Mode    Segment        Country  \\\n",
              "0            1  2023-03-01    Second Class   Consumer  United States   \n",
              "1            2  2023-08-15    Second Class   Consumer  United States   \n",
              "2            3  2023-01-10    Second Class  Corporate  United States   \n",
              "3            4  2022-06-18  Standard Class   Consumer  United States   \n",
              "4            5  2022-07-13  Standard Class   Consumer  United States   \n",
              "...        ...         ...             ...        ...            ...   \n",
              "9989      9990  2023-02-18    Second Class   Consumer  United States   \n",
              "9990      9991  2023-03-17  Standard Class   Consumer  United States   \n",
              "9991      9992  2022-08-07  Standard Class   Consumer  United States   \n",
              "9992      9993  2022-11-19  Standard Class   Consumer  United States   \n",
              "9993      9994  2022-07-17    Second Class   Consumer  United States   \n",
              "\n",
              "                 City       State  Postal Code Region         Category  \\\n",
              "0           Henderson    Kentucky        42420  South        Furniture   \n",
              "1           Henderson    Kentucky        42420  South        Furniture   \n",
              "2         Los Angeles  California        90036   West  Office Supplies   \n",
              "3     Fort Lauderdale     Florida        33311  South        Furniture   \n",
              "4     Fort Lauderdale     Florida        33311  South  Office Supplies   \n",
              "...               ...         ...          ...    ...              ...   \n",
              "9989            Miami     Florida        33180  South        Furniture   \n",
              "9990       Costa Mesa  California        92627   West        Furniture   \n",
              "9991       Costa Mesa  California        92627   West       Technology   \n",
              "9992       Costa Mesa  California        92627   West  Office Supplies   \n",
              "9993      Westminster  California        92683   West  Office Supplies   \n",
              "\n",
              "     Sub Category       Product Id  cost price  List Price  Quantity  \\\n",
              "0       Bookcases  FUR-BO-10001798         240         260         2   \n",
              "1          Chairs  FUR-CH-10000454         600         730         3   \n",
              "2          Labels  OFF-LA-10000240          10          10         2   \n",
              "3          Tables  FUR-TA-10000577         780         960         5   \n",
              "4         Storage  OFF-ST-10000760          20          20         2   \n",
              "...           ...              ...         ...         ...       ...   \n",
              "9989  Furnishings  FUR-FU-10001889          30          30         3   \n",
              "9990  Furnishings  FUR-FU-10000747          70          90         2   \n",
              "9991       Phones  TEC-PH-10003645         220         260         2   \n",
              "9992        Paper  OFF-PA-10004041          30          30         4   \n",
              "9993   Appliances  OFF-AP-10002684         210         240         2   \n",
              "\n",
              "      Discount Percent  \n",
              "0                    2  \n",
              "1                    3  \n",
              "2                    5  \n",
              "3                    2  \n",
              "4                    5  \n",
              "...                ...  \n",
              "9989                 4  \n",
              "9990                 4  \n",
              "9991                 2  \n",
              "9992                 3  \n",
              "9993                 3  \n",
              "\n",
              "[9994 rows x 16 columns]"
            ],
            "text/html": [
              "\n",
              "  <div id=\"df-ae861f1d-d083-45a4-aedd-821ba22cc177\" class=\"colab-df-container\">\n",
              "    <div>\n",
              "<style scoped>\n",
              "    .dataframe tbody tr th:only-of-type {\n",
              "        vertical-align: middle;\n",
              "    }\n",
              "\n",
              "    .dataframe tbody tr th {\n",
              "        vertical-align: top;\n",
              "    }\n",
              "\n",
              "    .dataframe thead th {\n",
              "        text-align: right;\n",
              "    }\n",
              "</style>\n",
              "<table border=\"1\" class=\"dataframe\">\n",
              "  <thead>\n",
              "    <tr style=\"text-align: right;\">\n",
              "      <th></th>\n",
              "      <th>Order Id</th>\n",
              "      <th>Order Date</th>\n",
              "      <th>Ship Mode</th>\n",
              "      <th>Segment</th>\n",
              "      <th>Country</th>\n",
              "      <th>City</th>\n",
              "      <th>State</th>\n",
              "      <th>Postal Code</th>\n",
              "      <th>Region</th>\n",
              "      <th>Category</th>\n",
              "      <th>Sub Category</th>\n",
              "      <th>Product Id</th>\n",
              "      <th>cost price</th>\n",
              "      <th>List Price</th>\n",
              "      <th>Quantity</th>\n",
              "      <th>Discount Percent</th>\n",
              "    </tr>\n",
              "  </thead>\n",
              "  <tbody>\n",
              "    <tr>\n",
              "      <th>0</th>\n",
              "      <td>1</td>\n",
              "      <td>2023-03-01</td>\n",
              "      <td>Second Class</td>\n",
              "      <td>Consumer</td>\n",
              "      <td>United States</td>\n",
              "      <td>Henderson</td>\n",
              "      <td>Kentucky</td>\n",
              "      <td>42420</td>\n",
              "      <td>South</td>\n",
              "      <td>Furniture</td>\n",
              "      <td>Bookcases</td>\n",
              "      <td>FUR-BO-10001798</td>\n",
              "      <td>240</td>\n",
              "      <td>260</td>\n",
              "      <td>2</td>\n",
              "      <td>2</td>\n",
              "    </tr>\n",
              "    <tr>\n",
              "      <th>1</th>\n",
              "      <td>2</td>\n",
              "      <td>2023-08-15</td>\n",
              "      <td>Second Class</td>\n",
              "      <td>Consumer</td>\n",
              "      <td>United States</td>\n",
              "      <td>Henderson</td>\n",
              "      <td>Kentucky</td>\n",
              "      <td>42420</td>\n",
              "      <td>South</td>\n",
              "      <td>Furniture</td>\n",
              "      <td>Chairs</td>\n",
              "      <td>FUR-CH-10000454</td>\n",
              "      <td>600</td>\n",
              "      <td>730</td>\n",
              "      <td>3</td>\n",
              "      <td>3</td>\n",
              "    </tr>\n",
              "    <tr>\n",
              "      <th>2</th>\n",
              "      <td>3</td>\n",
              "      <td>2023-01-10</td>\n",
              "      <td>Second Class</td>\n",
              "      <td>Corporate</td>\n",
              "      <td>United States</td>\n",
              "      <td>Los Angeles</td>\n",
              "      <td>California</td>\n",
              "      <td>90036</td>\n",
              "      <td>West</td>\n",
              "      <td>Office Supplies</td>\n",
              "      <td>Labels</td>\n",
              "      <td>OFF-LA-10000240</td>\n",
              "      <td>10</td>\n",
              "      <td>10</td>\n",
              "      <td>2</td>\n",
              "      <td>5</td>\n",
              "    </tr>\n",
              "    <tr>\n",
              "      <th>3</th>\n",
              "      <td>4</td>\n",
              "      <td>2022-06-18</td>\n",
              "      <td>Standard Class</td>\n",
              "      <td>Consumer</td>\n",
              "      <td>United States</td>\n",
              "      <td>Fort Lauderdale</td>\n",
              "      <td>Florida</td>\n",
              "      <td>33311</td>\n",
              "      <td>South</td>\n",
              "      <td>Furniture</td>\n",
              "      <td>Tables</td>\n",
              "      <td>FUR-TA-10000577</td>\n",
              "      <td>780</td>\n",
              "      <td>960</td>\n",
              "      <td>5</td>\n",
              "      <td>2</td>\n",
              "    </tr>\n",
              "    <tr>\n",
              "      <th>4</th>\n",
              "      <td>5</td>\n",
              "      <td>2022-07-13</td>\n",
              "      <td>Standard Class</td>\n",
              "      <td>Consumer</td>\n",
              "      <td>United States</td>\n",
              "      <td>Fort Lauderdale</td>\n",
              "      <td>Florida</td>\n",
              "      <td>33311</td>\n",
              "      <td>South</td>\n",
              "      <td>Office Supplies</td>\n",
              "      <td>Storage</td>\n",
              "      <td>OFF-ST-10000760</td>\n",
              "      <td>20</td>\n",
              "      <td>20</td>\n",
              "      <td>2</td>\n",
              "      <td>5</td>\n",
              "    </tr>\n",
              "    <tr>\n",
              "      <th>...</th>\n",
              "      <td>...</td>\n",
              "      <td>...</td>\n",
              "      <td>...</td>\n",
              "      <td>...</td>\n",
              "      <td>...</td>\n",
              "      <td>...</td>\n",
              "      <td>...</td>\n",
              "      <td>...</td>\n",
              "      <td>...</td>\n",
              "      <td>...</td>\n",
              "      <td>...</td>\n",
              "      <td>...</td>\n",
              "      <td>...</td>\n",
              "      <td>...</td>\n",
              "      <td>...</td>\n",
              "      <td>...</td>\n",
              "    </tr>\n",
              "    <tr>\n",
              "      <th>9989</th>\n",
              "      <td>9990</td>\n",
              "      <td>2023-02-18</td>\n",
              "      <td>Second Class</td>\n",
              "      <td>Consumer</td>\n",
              "      <td>United States</td>\n",
              "      <td>Miami</td>\n",
              "      <td>Florida</td>\n",
              "      <td>33180</td>\n",
              "      <td>South</td>\n",
              "      <td>Furniture</td>\n",
              "      <td>Furnishings</td>\n",
              "      <td>FUR-FU-10001889</td>\n",
              "      <td>30</td>\n",
              "      <td>30</td>\n",
              "      <td>3</td>\n",
              "      <td>4</td>\n",
              "    </tr>\n",
              "    <tr>\n",
              "      <th>9990</th>\n",
              "      <td>9991</td>\n",
              "      <td>2023-03-17</td>\n",
              "      <td>Standard Class</td>\n",
              "      <td>Consumer</td>\n",
              "      <td>United States</td>\n",
              "      <td>Costa Mesa</td>\n",
              "      <td>California</td>\n",
              "      <td>92627</td>\n",
              "      <td>West</td>\n",
              "      <td>Furniture</td>\n",
              "      <td>Furnishings</td>\n",
              "      <td>FUR-FU-10000747</td>\n",
              "      <td>70</td>\n",
              "      <td>90</td>\n",
              "      <td>2</td>\n",
              "      <td>4</td>\n",
              "    </tr>\n",
              "    <tr>\n",
              "      <th>9991</th>\n",
              "      <td>9992</td>\n",
              "      <td>2022-08-07</td>\n",
              "      <td>Standard Class</td>\n",
              "      <td>Consumer</td>\n",
              "      <td>United States</td>\n",
              "      <td>Costa Mesa</td>\n",
              "      <td>California</td>\n",
              "      <td>92627</td>\n",
              "      <td>West</td>\n",
              "      <td>Technology</td>\n",
              "      <td>Phones</td>\n",
              "      <td>TEC-PH-10003645</td>\n",
              "      <td>220</td>\n",
              "      <td>260</td>\n",
              "      <td>2</td>\n",
              "      <td>2</td>\n",
              "    </tr>\n",
              "    <tr>\n",
              "      <th>9992</th>\n",
              "      <td>9993</td>\n",
              "      <td>2022-11-19</td>\n",
              "      <td>Standard Class</td>\n",
              "      <td>Consumer</td>\n",
              "      <td>United States</td>\n",
              "      <td>Costa Mesa</td>\n",
              "      <td>California</td>\n",
              "      <td>92627</td>\n",
              "      <td>West</td>\n",
              "      <td>Office Supplies</td>\n",
              "      <td>Paper</td>\n",
              "      <td>OFF-PA-10004041</td>\n",
              "      <td>30</td>\n",
              "      <td>30</td>\n",
              "      <td>4</td>\n",
              "      <td>3</td>\n",
              "    </tr>\n",
              "    <tr>\n",
              "      <th>9993</th>\n",
              "      <td>9994</td>\n",
              "      <td>2022-07-17</td>\n",
              "      <td>Second Class</td>\n",
              "      <td>Consumer</td>\n",
              "      <td>United States</td>\n",
              "      <td>Westminster</td>\n",
              "      <td>California</td>\n",
              "      <td>92683</td>\n",
              "      <td>West</td>\n",
              "      <td>Office Supplies</td>\n",
              "      <td>Appliances</td>\n",
              "      <td>OFF-AP-10002684</td>\n",
              "      <td>210</td>\n",
              "      <td>240</td>\n",
              "      <td>2</td>\n",
              "      <td>3</td>\n",
              "    </tr>\n",
              "  </tbody>\n",
              "</table>\n",
              "<p>9994 rows × 16 columns</p>\n",
              "</div>\n",
              "    <div class=\"colab-df-buttons\">\n",
              "\n",
              "  <div class=\"colab-df-container\">\n",
              "    <button class=\"colab-df-convert\" onclick=\"convertToInteractive('df-ae861f1d-d083-45a4-aedd-821ba22cc177')\"\n",
              "            title=\"Convert this dataframe to an interactive table.\"\n",
              "            style=\"display:none;\">\n",
              "\n",
              "  <svg xmlns=\"http://www.w3.org/2000/svg\" height=\"24px\" viewBox=\"0 -960 960 960\">\n",
              "    <path d=\"M120-120v-720h720v720H120Zm60-500h600v-160H180v160Zm220 220h160v-160H400v160Zm0 220h160v-160H400v160ZM180-400h160v-160H180v160Zm440 0h160v-160H620v160ZM180-180h160v-160H180v160Zm440 0h160v-160H620v160Z\"/>\n",
              "  </svg>\n",
              "    </button>\n",
              "\n",
              "  <style>\n",
              "    .colab-df-container {\n",
              "      display:flex;\n",
              "      gap: 12px;\n",
              "    }\n",
              "\n",
              "    .colab-df-convert {\n",
              "      background-color: #E8F0FE;\n",
              "      border: none;\n",
              "      border-radius: 50%;\n",
              "      cursor: pointer;\n",
              "      display: none;\n",
              "      fill: #1967D2;\n",
              "      height: 32px;\n",
              "      padding: 0 0 0 0;\n",
              "      width: 32px;\n",
              "    }\n",
              "\n",
              "    .colab-df-convert:hover {\n",
              "      background-color: #E2EBFA;\n",
              "      box-shadow: 0px 1px 2px rgba(60, 64, 67, 0.3), 0px 1px 3px 1px rgba(60, 64, 67, 0.15);\n",
              "      fill: #174EA6;\n",
              "    }\n",
              "\n",
              "    .colab-df-buttons div {\n",
              "      margin-bottom: 4px;\n",
              "    }\n",
              "\n",
              "    [theme=dark] .colab-df-convert {\n",
              "      background-color: #3B4455;\n",
              "      fill: #D2E3FC;\n",
              "    }\n",
              "\n",
              "    [theme=dark] .colab-df-convert:hover {\n",
              "      background-color: #434B5C;\n",
              "      box-shadow: 0px 1px 3px 1px rgba(0, 0, 0, 0.15);\n",
              "      filter: drop-shadow(0px 1px 2px rgba(0, 0, 0, 0.3));\n",
              "      fill: #FFFFFF;\n",
              "    }\n",
              "  </style>\n",
              "\n",
              "    <script>\n",
              "      const buttonEl =\n",
              "        document.querySelector('#df-ae861f1d-d083-45a4-aedd-821ba22cc177 button.colab-df-convert');\n",
              "      buttonEl.style.display =\n",
              "        google.colab.kernel.accessAllowed ? 'block' : 'none';\n",
              "\n",
              "      async function convertToInteractive(key) {\n",
              "        const element = document.querySelector('#df-ae861f1d-d083-45a4-aedd-821ba22cc177');\n",
              "        const dataTable =\n",
              "          await google.colab.kernel.invokeFunction('convertToInteractive',\n",
              "                                                    [key], {});\n",
              "        if (!dataTable) return;\n",
              "\n",
              "        const docLinkHtml = 'Like what you see? Visit the ' +\n",
              "          '<a target=\"_blank\" href=https://colab.research.google.com/notebooks/data_table.ipynb>data table notebook</a>'\n",
              "          + ' to learn more about interactive tables.';\n",
              "        element.innerHTML = '';\n",
              "        dataTable['output_type'] = 'display_data';\n",
              "        await google.colab.output.renderOutput(dataTable, element);\n",
              "        const docLink = document.createElement('div');\n",
              "        docLink.innerHTML = docLinkHtml;\n",
              "        element.appendChild(docLink);\n",
              "      }\n",
              "    </script>\n",
              "  </div>\n",
              "\n",
              "\n",
              "<div id=\"df-38ff8b24-5319-446c-8fbe-3ddd9db51230\">\n",
              "  <button class=\"colab-df-quickchart\" onclick=\"quickchart('df-38ff8b24-5319-446c-8fbe-3ddd9db51230')\"\n",
              "            title=\"Suggest charts\"\n",
              "            style=\"display:none;\">\n",
              "\n",
              "<svg xmlns=\"http://www.w3.org/2000/svg\" height=\"24px\"viewBox=\"0 0 24 24\"\n",
              "     width=\"24px\">\n",
              "    <g>\n",
              "        <path d=\"M19 3H5c-1.1 0-2 .9-2 2v14c0 1.1.9 2 2 2h14c1.1 0 2-.9 2-2V5c0-1.1-.9-2-2-2zM9 17H7v-7h2v7zm4 0h-2V7h2v10zm4 0h-2v-4h2v4z\"/>\n",
              "    </g>\n",
              "</svg>\n",
              "  </button>\n",
              "\n",
              "<style>\n",
              "  .colab-df-quickchart {\n",
              "      --bg-color: #E8F0FE;\n",
              "      --fill-color: #1967D2;\n",
              "      --hover-bg-color: #E2EBFA;\n",
              "      --hover-fill-color: #174EA6;\n",
              "      --disabled-fill-color: #AAA;\n",
              "      --disabled-bg-color: #DDD;\n",
              "  }\n",
              "\n",
              "  [theme=dark] .colab-df-quickchart {\n",
              "      --bg-color: #3B4455;\n",
              "      --fill-color: #D2E3FC;\n",
              "      --hover-bg-color: #434B5C;\n",
              "      --hover-fill-color: #FFFFFF;\n",
              "      --disabled-bg-color: #3B4455;\n",
              "      --disabled-fill-color: #666;\n",
              "  }\n",
              "\n",
              "  .colab-df-quickchart {\n",
              "    background-color: var(--bg-color);\n",
              "    border: none;\n",
              "    border-radius: 50%;\n",
              "    cursor: pointer;\n",
              "    display: none;\n",
              "    fill: var(--fill-color);\n",
              "    height: 32px;\n",
              "    padding: 0;\n",
              "    width: 32px;\n",
              "  }\n",
              "\n",
              "  .colab-df-quickchart:hover {\n",
              "    background-color: var(--hover-bg-color);\n",
              "    box-shadow: 0 1px 2px rgba(60, 64, 67, 0.3), 0 1px 3px 1px rgba(60, 64, 67, 0.15);\n",
              "    fill: var(--button-hover-fill-color);\n",
              "  }\n",
              "\n",
              "  .colab-df-quickchart-complete:disabled,\n",
              "  .colab-df-quickchart-complete:disabled:hover {\n",
              "    background-color: var(--disabled-bg-color);\n",
              "    fill: var(--disabled-fill-color);\n",
              "    box-shadow: none;\n",
              "  }\n",
              "\n",
              "  .colab-df-spinner {\n",
              "    border: 2px solid var(--fill-color);\n",
              "    border-color: transparent;\n",
              "    border-bottom-color: var(--fill-color);\n",
              "    animation:\n",
              "      spin 1s steps(1) infinite;\n",
              "  }\n",
              "\n",
              "  @keyframes spin {\n",
              "    0% {\n",
              "      border-color: transparent;\n",
              "      border-bottom-color: var(--fill-color);\n",
              "      border-left-color: var(--fill-color);\n",
              "    }\n",
              "    20% {\n",
              "      border-color: transparent;\n",
              "      border-left-color: var(--fill-color);\n",
              "      border-top-color: var(--fill-color);\n",
              "    }\n",
              "    30% {\n",
              "      border-color: transparent;\n",
              "      border-left-color: var(--fill-color);\n",
              "      border-top-color: var(--fill-color);\n",
              "      border-right-color: var(--fill-color);\n",
              "    }\n",
              "    40% {\n",
              "      border-color: transparent;\n",
              "      border-right-color: var(--fill-color);\n",
              "      border-top-color: var(--fill-color);\n",
              "    }\n",
              "    60% {\n",
              "      border-color: transparent;\n",
              "      border-right-color: var(--fill-color);\n",
              "    }\n",
              "    80% {\n",
              "      border-color: transparent;\n",
              "      border-right-color: var(--fill-color);\n",
              "      border-bottom-color: var(--fill-color);\n",
              "    }\n",
              "    90% {\n",
              "      border-color: transparent;\n",
              "      border-bottom-color: var(--fill-color);\n",
              "    }\n",
              "  }\n",
              "</style>\n",
              "\n",
              "  <script>\n",
              "    async function quickchart(key) {\n",
              "      const quickchartButtonEl =\n",
              "        document.querySelector('#' + key + ' button');\n",
              "      quickchartButtonEl.disabled = true;  // To prevent multiple clicks.\n",
              "      quickchartButtonEl.classList.add('colab-df-spinner');\n",
              "      try {\n",
              "        const charts = await google.colab.kernel.invokeFunction(\n",
              "            'suggestCharts', [key], {});\n",
              "      } catch (error) {\n",
              "        console.error('Error during call to suggestCharts:', error);\n",
              "      }\n",
              "      quickchartButtonEl.classList.remove('colab-df-spinner');\n",
              "      quickchartButtonEl.classList.add('colab-df-quickchart-complete');\n",
              "    }\n",
              "    (() => {\n",
              "      let quickchartButtonEl =\n",
              "        document.querySelector('#df-38ff8b24-5319-446c-8fbe-3ddd9db51230 button');\n",
              "      quickchartButtonEl.style.display =\n",
              "        google.colab.kernel.accessAllowed ? 'block' : 'none';\n",
              "    })();\n",
              "  </script>\n",
              "</div>\n",
              "\n",
              "  <div id=\"id_8d3f0c40-9ab3-4403-827d-65b96637a342\">\n",
              "    <style>\n",
              "      .colab-df-generate {\n",
              "        background-color: #E8F0FE;\n",
              "        border: none;\n",
              "        border-radius: 50%;\n",
              "        cursor: pointer;\n",
              "        display: none;\n",
              "        fill: #1967D2;\n",
              "        height: 32px;\n",
              "        padding: 0 0 0 0;\n",
              "        width: 32px;\n",
              "      }\n",
              "\n",
              "      .colab-df-generate:hover {\n",
              "        background-color: #E2EBFA;\n",
              "        box-shadow: 0px 1px 2px rgba(60, 64, 67, 0.3), 0px 1px 3px 1px rgba(60, 64, 67, 0.15);\n",
              "        fill: #174EA6;\n",
              "      }\n",
              "\n",
              "      [theme=dark] .colab-df-generate {\n",
              "        background-color: #3B4455;\n",
              "        fill: #D2E3FC;\n",
              "      }\n",
              "\n",
              "      [theme=dark] .colab-df-generate:hover {\n",
              "        background-color: #434B5C;\n",
              "        box-shadow: 0px 1px 3px 1px rgba(0, 0, 0, 0.15);\n",
              "        filter: drop-shadow(0px 1px 2px rgba(0, 0, 0, 0.3));\n",
              "        fill: #FFFFFF;\n",
              "      }\n",
              "    </style>\n",
              "    <button class=\"colab-df-generate\" onclick=\"generateWithVariable('project1')\"\n",
              "            title=\"Generate code using this dataframe.\"\n",
              "            style=\"display:none;\">\n",
              "\n",
              "  <svg xmlns=\"http://www.w3.org/2000/svg\" height=\"24px\"viewBox=\"0 0 24 24\"\n",
              "       width=\"24px\">\n",
              "    <path d=\"M7,19H8.4L18.45,9,17,7.55,7,17.6ZM5,21V16.75L18.45,3.32a2,2,0,0,1,2.83,0l1.4,1.43a1.91,1.91,0,0,1,.58,1.4,1.91,1.91,0,0,1-.58,1.4L9.25,21ZM18.45,9,17,7.55Zm-12,3A5.31,5.31,0,0,0,4.9,8.1,5.31,5.31,0,0,0,1,6.5,5.31,5.31,0,0,0,4.9,4.9,5.31,5.31,0,0,0,6.5,1,5.31,5.31,0,0,0,8.1,4.9,5.31,5.31,0,0,0,12,6.5,5.46,5.46,0,0,0,6.5,12Z\"/>\n",
              "  </svg>\n",
              "    </button>\n",
              "    <script>\n",
              "      (() => {\n",
              "      const buttonEl =\n",
              "        document.querySelector('#id_8d3f0c40-9ab3-4403-827d-65b96637a342 button.colab-df-generate');\n",
              "      buttonEl.style.display =\n",
              "        google.colab.kernel.accessAllowed ? 'block' : 'none';\n",
              "\n",
              "      buttonEl.onclick = () => {\n",
              "        google.colab.notebook.generateWithVariable('project1');\n",
              "      }\n",
              "      })();\n",
              "    </script>\n",
              "  </div>\n",
              "\n",
              "    </div>\n",
              "  </div>\n"
            ],
            "application/vnd.google.colaboratory.intrinsic+json": {
              "type": "dataframe",
              "variable_name": "project1",
              "summary": "{\n  \"name\": \"project1\",\n  \"rows\": 9994,\n  \"fields\": [\n    {\n      \"column\": \"Order Id\",\n      \"properties\": {\n        \"dtype\": \"number\",\n        \"std\": 2885,\n        \"min\": 1,\n        \"max\": 9994,\n        \"num_unique_values\": 9994,\n        \"samples\": [\n          3126,\n          1442,\n          4511\n        ],\n        \"semantic_type\": \"\",\n        \"description\": \"\"\n      }\n    },\n    {\n      \"column\": \"Order Date\",\n      \"properties\": {\n        \"dtype\": \"object\",\n        \"num_unique_values\": 730,\n        \"samples\": [\n          \"2022-11-04\",\n          \"2023-10-14\",\n          \"2023-09-23\"\n        ],\n        \"semantic_type\": \"\",\n        \"description\": \"\"\n      }\n    },\n    {\n      \"column\": \"Ship Mode\",\n      \"properties\": {\n        \"dtype\": \"category\",\n        \"num_unique_values\": 6,\n        \"samples\": [\n          \"Second Class\",\n          \"Standard Class\",\n          \"Same Day\"\n        ],\n        \"semantic_type\": \"\",\n        \"description\": \"\"\n      }\n    },\n    {\n      \"column\": \"Segment\",\n      \"properties\": {\n        \"dtype\": \"category\",\n        \"num_unique_values\": 3,\n        \"samples\": [\n          \"Consumer\",\n          \"Corporate\",\n          \"Home Office\"\n        ],\n        \"semantic_type\": \"\",\n        \"description\": \"\"\n      }\n    },\n    {\n      \"column\": \"Country\",\n      \"properties\": {\n        \"dtype\": \"category\",\n        \"num_unique_values\": 1,\n        \"samples\": [\n          \"United States\"\n        ],\n        \"semantic_type\": \"\",\n        \"description\": \"\"\n      }\n    },\n    {\n      \"column\": \"City\",\n      \"properties\": {\n        \"dtype\": \"category\",\n        \"num_unique_values\": 531,\n        \"samples\": [\n          \"Laurel\"\n        ],\n        \"semantic_type\": \"\",\n        \"description\": \"\"\n      }\n    },\n    {\n      \"column\": \"State\",\n      \"properties\": {\n        \"dtype\": \"category\",\n        \"num_unique_values\": 49,\n        \"samples\": [\n          \"Delaware\"\n        ],\n        \"semantic_type\": \"\",\n        \"description\": \"\"\n      }\n    },\n    {\n      \"column\": \"Postal Code\",\n      \"properties\": {\n        \"dtype\": \"number\",\n        \"std\": 32063,\n        \"min\": 1040,\n        \"max\": 99301,\n        \"num_unique_values\": 631,\n        \"samples\": [\n          30062\n        ],\n        \"semantic_type\": \"\",\n        \"description\": \"\"\n      }\n    },\n    {\n      \"column\": \"Region\",\n      \"properties\": {\n        \"dtype\": \"category\",\n        \"num_unique_values\": 4,\n        \"samples\": [\n          \"West\"\n        ],\n        \"semantic_type\": \"\",\n        \"description\": \"\"\n      }\n    },\n    {\n      \"column\": \"Category\",\n      \"properties\": {\n        \"dtype\": \"category\",\n        \"num_unique_values\": 3,\n        \"samples\": [\n          \"Furniture\"\n        ],\n        \"semantic_type\": \"\",\n        \"description\": \"\"\n      }\n    },\n    {\n      \"column\": \"Sub Category\",\n      \"properties\": {\n        \"dtype\": \"category\",\n        \"num_unique_values\": 17,\n        \"samples\": [\n          \"Bookcases\"\n        ],\n        \"semantic_type\": \"\",\n        \"description\": \"\"\n      }\n    },\n    {\n      \"column\": \"Product Id\",\n      \"properties\": {\n        \"dtype\": \"category\",\n        \"num_unique_values\": 1862,\n        \"samples\": [\n          \"TEC-PH-10001580\"\n        ],\n        \"semantic_type\": \"\",\n        \"description\": \"\"\n      }\n    },\n    {\n      \"column\": \"cost price\",\n      \"properties\": {\n        \"dtype\": \"number\",\n        \"std\": 537,\n        \"min\": 0,\n        \"max\": 18110,\n        \"num_unique_values\": 280,\n        \"samples\": [\n          790\n        ],\n        \"semantic_type\": \"\",\n        \"description\": \"\"\n      }\n    },\n    {\n      \"column\": \"List Price\",\n      \"properties\": {\n        \"dtype\": \"number\",\n        \"std\": 623,\n        \"min\": 0,\n        \"max\": 22640,\n        \"num_unique_values\": 289,\n        \"samples\": [\n          380\n        ],\n        \"semantic_type\": \"\",\n        \"description\": \"\"\n      }\n    },\n    {\n      \"column\": \"Quantity\",\n      \"properties\": {\n        \"dtype\": \"number\",\n        \"std\": 2,\n        \"min\": 1,\n        \"max\": 14,\n        \"num_unique_values\": 14,\n        \"samples\": [\n          14\n        ],\n        \"semantic_type\": \"\",\n        \"description\": \"\"\n      }\n    },\n    {\n      \"column\": \"Discount Percent\",\n      \"properties\": {\n        \"dtype\": \"number\",\n        \"std\": 1,\n        \"min\": 2,\n        \"max\": 5,\n        \"num_unique_values\": 4,\n        \"samples\": [\n          3\n        ],\n        \"semantic_type\": \"\",\n        \"description\": \"\"\n      }\n    }\n  ]\n}"
            }
          },
          "metadata": {},
          "execution_count": 6
        }
      ],
      "source": [
        "project1"
      ]
    },
    {
      "cell_type": "code",
      "execution_count": 7,
      "metadata": {
        "colab": {
          "base_uri": "https://localhost:8080/"
        },
        "id": "yn9dLaED539n",
        "outputId": "81678222-487a-4f16-c2db-3a4861b0ffd9"
      },
      "outputs": [
        {
          "output_type": "execute_result",
          "data": {
            "text/plain": [
              "Index(['order_id', 'order_date', 'ship_mode', 'segment', 'country', 'city',\n",
              "       'state', 'postal_code', 'region', 'category', 'sub_category',\n",
              "       'product_id', 'cost_price', 'list_price', 'quantity',\n",
              "       'discount_percent'],\n",
              "      dtype='object')"
            ]
          },
          "metadata": {},
          "execution_count": 7
        }
      ],
      "source": [
        "project1.columns = project1.columns.str.lower() #lowercasing_columnnames\n",
        "project1.columns = project1.columns.str.replace(' ', '_') #replacing space with '_'\n",
        "project1.columns"
      ]
    },
    {
      "cell_type": "code",
      "execution_count": 8,
      "metadata": {
        "colab": {
          "base_uri": "https://localhost:8080/"
        },
        "id": "M1eQc7sO-l6O",
        "outputId": "00d12e27-85e0-4931-99a9-f7af11023128"
      },
      "outputs": [
        {
          "output_type": "execute_result",
          "data": {
            "text/plain": [
              "array(['Second Class', 'Standard Class', 'Not Available', 'unknown',\n",
              "       'First Class', nan, 'Same Day'], dtype=object)"
            ]
          },
          "metadata": {},
          "execution_count": 8
        }
      ],
      "source": [
        "project1['ship_mode'].unique()"
      ]
    },
    {
      "cell_type": "code",
      "execution_count": 9,
      "metadata": {
        "id": "ioc5QoHphv1D"
      },
      "outputs": [],
      "source": [
        "project1['ship_mode']=project1['ship_mode'].replace('Not Available','0') #Making missing data no:1 as zero\"0\"\n",
        "project1['ship_mode']=project1['ship_mode'].replace('unknown','0') #Making missing data no:2 as zero\"0\""
      ]
    },
    {
      "cell_type": "code",
      "execution_count": 10,
      "metadata": {
        "colab": {
          "base_uri": "https://localhost:8080/"
        },
        "id": "qsltlPSckYIY",
        "outputId": "2c382110-76d5-41b3-9528-ba682ef51666"
      },
      "outputs": [
        {
          "output_type": "execute_result",
          "data": {
            "text/plain": [
              "array(['Second Class', 'Standard Class', '0', 'First Class', nan,\n",
              "       'Same Day'], dtype=object)"
            ]
          },
          "metadata": {},
          "execution_count": 10
        }
      ],
      "source": [
        "project1['ship_mode'].unique()"
      ]
    },
    {
      "cell_type": "code",
      "execution_count": 11,
      "metadata": {
        "id": "itI9843VlxiK"
      },
      "outputs": [],
      "source": [
        "import numpy as np"
      ]
    },
    {
      "cell_type": "code",
      "execution_count": 12,
      "metadata": {
        "id": "nduv-LFDlPIH"
      },
      "outputs": [],
      "source": [
        "project1['ship_mode']=project1['ship_mode'].replace(np.nan,'0') #Making NaN values as zero\"0\""
      ]
    },
    {
      "cell_type": "code",
      "execution_count": 13,
      "metadata": {
        "colab": {
          "base_uri": "https://localhost:8080/"
        },
        "id": "aPPt7f_An-1o",
        "outputId": "c0cab958-3ac9-47fd-9022-bb5c8c2fdc88"
      },
      "outputs": [
        {
          "output_type": "execute_result",
          "data": {
            "text/plain": [
              "array(['Second Class', 'Standard Class', '0', 'First Class', 'Same Day'],\n",
              "      dtype=object)"
            ]
          },
          "metadata": {},
          "execution_count": 13
        }
      ],
      "source": [
        "project1['ship_mode'].unique()"
      ]
    },
    {
      "cell_type": "code",
      "execution_count": 14,
      "metadata": {
        "colab": {
          "base_uri": "https://localhost:8080/"
        },
        "id": "0Gr1GvY8kwEq",
        "outputId": "53b2ea4c-efd8-43eb-e678-caff20a0dc61"
      },
      "outputs": [
        {
          "output_type": "stream",
          "name": "stdout",
          "text": [
            "order_id            0\n",
            "order_date          0\n",
            "ship_mode           0\n",
            "segment             0\n",
            "country             0\n",
            "city                0\n",
            "state               0\n",
            "postal_code         0\n",
            "region              0\n",
            "category            0\n",
            "sub_category        0\n",
            "product_id          0\n",
            "cost_price          0\n",
            "list_price          0\n",
            "quantity            0\n",
            "discount_percent    0\n",
            "dtype: int64\n"
          ]
        }
      ],
      "source": [
        "print(project1.isnull().sum())"
      ]
    },
    {
      "cell_type": "code",
      "execution_count": 15,
      "metadata": {
        "id": "mGwZ6xpeq3BD"
      },
      "outputs": [],
      "source": [
        "project1['discount_amount']=project1['list_price']*project1['discount_percent']/100 #Discount_amount\n",
        "project1['sale_price']=project1['list_price']-project1['discount_amount'] #Sale_price\n",
        "project1['profit']=project1['sale_price']-project1['cost_price'] #Profit"
      ]
    },
    {
      "cell_type": "code",
      "execution_count": 16,
      "metadata": {
        "colab": {
          "base_uri": "https://localhost:8080/",
          "height": 617
        },
        "id": "PTxoNhJeEs0O",
        "outputId": "d45176db-1288-41cf-d22b-fff375d9c3f4"
      },
      "outputs": [
        {
          "output_type": "display_data",
          "data": {
            "text/plain": [
              "      order_id  order_date       ship_mode    segment        country  \\\n",
              "0            1  2023-03-01    Second Class   Consumer  United States   \n",
              "1            2  2023-08-15    Second Class   Consumer  United States   \n",
              "2            3  2023-01-10    Second Class  Corporate  United States   \n",
              "3            4  2022-06-18  Standard Class   Consumer  United States   \n",
              "4            5  2022-07-13  Standard Class   Consumer  United States   \n",
              "...        ...         ...             ...        ...            ...   \n",
              "9989      9990  2023-02-18    Second Class   Consumer  United States   \n",
              "9990      9991  2023-03-17  Standard Class   Consumer  United States   \n",
              "9991      9992  2022-08-07  Standard Class   Consumer  United States   \n",
              "9992      9993  2022-11-19  Standard Class   Consumer  United States   \n",
              "9993      9994  2022-07-17    Second Class   Consumer  United States   \n",
              "\n",
              "                 city       state  postal_code region         category  \\\n",
              "0           Henderson    Kentucky        42420  South        Furniture   \n",
              "1           Henderson    Kentucky        42420  South        Furniture   \n",
              "2         Los Angeles  California        90036   West  Office Supplies   \n",
              "3     Fort Lauderdale     Florida        33311  South        Furniture   \n",
              "4     Fort Lauderdale     Florida        33311  South  Office Supplies   \n",
              "...               ...         ...          ...    ...              ...   \n",
              "9989            Miami     Florida        33180  South        Furniture   \n",
              "9990       Costa Mesa  California        92627   West        Furniture   \n",
              "9991       Costa Mesa  California        92627   West       Technology   \n",
              "9992       Costa Mesa  California        92627   West  Office Supplies   \n",
              "9993      Westminster  California        92683   West  Office Supplies   \n",
              "\n",
              "     sub_category       product_id  cost_price  list_price  quantity  \\\n",
              "0       Bookcases  FUR-BO-10001798         240         260         2   \n",
              "1          Chairs  FUR-CH-10000454         600         730         3   \n",
              "2          Labels  OFF-LA-10000240          10          10         2   \n",
              "3          Tables  FUR-TA-10000577         780         960         5   \n",
              "4         Storage  OFF-ST-10000760          20          20         2   \n",
              "...           ...              ...         ...         ...       ...   \n",
              "9989  Furnishings  FUR-FU-10001889          30          30         3   \n",
              "9990  Furnishings  FUR-FU-10000747          70          90         2   \n",
              "9991       Phones  TEC-PH-10003645         220         260         2   \n",
              "9992        Paper  OFF-PA-10004041          30          30         4   \n",
              "9993   Appliances  OFF-AP-10002684         210         240         2   \n",
              "\n",
              "      discount_percent  discount_amount  sale_price  profit  \n",
              "0                    2              5.2       254.8    14.8  \n",
              "1                    3             21.9       708.1   108.1  \n",
              "2                    5              0.5         9.5    -0.5  \n",
              "3                    2             19.2       940.8   160.8  \n",
              "4                    5              1.0        19.0    -1.0  \n",
              "...                ...              ...         ...     ...  \n",
              "9989                 4              1.2        28.8    -1.2  \n",
              "9990                 4              3.6        86.4    16.4  \n",
              "9991                 2              5.2       254.8    34.8  \n",
              "9992                 3              0.9        29.1    -0.9  \n",
              "9993                 3              7.2       232.8    22.8  \n",
              "\n",
              "[9994 rows x 19 columns]"
            ],
            "text/html": [
              "\n",
              "  <div id=\"df-1e4217bf-056c-427a-a46f-f490e086fcd6\" class=\"colab-df-container\">\n",
              "    <div>\n",
              "<style scoped>\n",
              "    .dataframe tbody tr th:only-of-type {\n",
              "        vertical-align: middle;\n",
              "    }\n",
              "\n",
              "    .dataframe tbody tr th {\n",
              "        vertical-align: top;\n",
              "    }\n",
              "\n",
              "    .dataframe thead th {\n",
              "        text-align: right;\n",
              "    }\n",
              "</style>\n",
              "<table border=\"1\" class=\"dataframe\">\n",
              "  <thead>\n",
              "    <tr style=\"text-align: right;\">\n",
              "      <th></th>\n",
              "      <th>order_id</th>\n",
              "      <th>order_date</th>\n",
              "      <th>ship_mode</th>\n",
              "      <th>segment</th>\n",
              "      <th>country</th>\n",
              "      <th>city</th>\n",
              "      <th>state</th>\n",
              "      <th>postal_code</th>\n",
              "      <th>region</th>\n",
              "      <th>category</th>\n",
              "      <th>sub_category</th>\n",
              "      <th>product_id</th>\n",
              "      <th>cost_price</th>\n",
              "      <th>list_price</th>\n",
              "      <th>quantity</th>\n",
              "      <th>discount_percent</th>\n",
              "      <th>discount_amount</th>\n",
              "      <th>sale_price</th>\n",
              "      <th>profit</th>\n",
              "    </tr>\n",
              "  </thead>\n",
              "  <tbody>\n",
              "    <tr>\n",
              "      <th>0</th>\n",
              "      <td>1</td>\n",
              "      <td>2023-03-01</td>\n",
              "      <td>Second Class</td>\n",
              "      <td>Consumer</td>\n",
              "      <td>United States</td>\n",
              "      <td>Henderson</td>\n",
              "      <td>Kentucky</td>\n",
              "      <td>42420</td>\n",
              "      <td>South</td>\n",
              "      <td>Furniture</td>\n",
              "      <td>Bookcases</td>\n",
              "      <td>FUR-BO-10001798</td>\n",
              "      <td>240</td>\n",
              "      <td>260</td>\n",
              "      <td>2</td>\n",
              "      <td>2</td>\n",
              "      <td>5.2</td>\n",
              "      <td>254.8</td>\n",
              "      <td>14.8</td>\n",
              "    </tr>\n",
              "    <tr>\n",
              "      <th>1</th>\n",
              "      <td>2</td>\n",
              "      <td>2023-08-15</td>\n",
              "      <td>Second Class</td>\n",
              "      <td>Consumer</td>\n",
              "      <td>United States</td>\n",
              "      <td>Henderson</td>\n",
              "      <td>Kentucky</td>\n",
              "      <td>42420</td>\n",
              "      <td>South</td>\n",
              "      <td>Furniture</td>\n",
              "      <td>Chairs</td>\n",
              "      <td>FUR-CH-10000454</td>\n",
              "      <td>600</td>\n",
              "      <td>730</td>\n",
              "      <td>3</td>\n",
              "      <td>3</td>\n",
              "      <td>21.9</td>\n",
              "      <td>708.1</td>\n",
              "      <td>108.1</td>\n",
              "    </tr>\n",
              "    <tr>\n",
              "      <th>2</th>\n",
              "      <td>3</td>\n",
              "      <td>2023-01-10</td>\n",
              "      <td>Second Class</td>\n",
              "      <td>Corporate</td>\n",
              "      <td>United States</td>\n",
              "      <td>Los Angeles</td>\n",
              "      <td>California</td>\n",
              "      <td>90036</td>\n",
              "      <td>West</td>\n",
              "      <td>Office Supplies</td>\n",
              "      <td>Labels</td>\n",
              "      <td>OFF-LA-10000240</td>\n",
              "      <td>10</td>\n",
              "      <td>10</td>\n",
              "      <td>2</td>\n",
              "      <td>5</td>\n",
              "      <td>0.5</td>\n",
              "      <td>9.5</td>\n",
              "      <td>-0.5</td>\n",
              "    </tr>\n",
              "    <tr>\n",
              "      <th>3</th>\n",
              "      <td>4</td>\n",
              "      <td>2022-06-18</td>\n",
              "      <td>Standard Class</td>\n",
              "      <td>Consumer</td>\n",
              "      <td>United States</td>\n",
              "      <td>Fort Lauderdale</td>\n",
              "      <td>Florida</td>\n",
              "      <td>33311</td>\n",
              "      <td>South</td>\n",
              "      <td>Furniture</td>\n",
              "      <td>Tables</td>\n",
              "      <td>FUR-TA-10000577</td>\n",
              "      <td>780</td>\n",
              "      <td>960</td>\n",
              "      <td>5</td>\n",
              "      <td>2</td>\n",
              "      <td>19.2</td>\n",
              "      <td>940.8</td>\n",
              "      <td>160.8</td>\n",
              "    </tr>\n",
              "    <tr>\n",
              "      <th>4</th>\n",
              "      <td>5</td>\n",
              "      <td>2022-07-13</td>\n",
              "      <td>Standard Class</td>\n",
              "      <td>Consumer</td>\n",
              "      <td>United States</td>\n",
              "      <td>Fort Lauderdale</td>\n",
              "      <td>Florida</td>\n",
              "      <td>33311</td>\n",
              "      <td>South</td>\n",
              "      <td>Office Supplies</td>\n",
              "      <td>Storage</td>\n",
              "      <td>OFF-ST-10000760</td>\n",
              "      <td>20</td>\n",
              "      <td>20</td>\n",
              "      <td>2</td>\n",
              "      <td>5</td>\n",
              "      <td>1.0</td>\n",
              "      <td>19.0</td>\n",
              "      <td>-1.0</td>\n",
              "    </tr>\n",
              "    <tr>\n",
              "      <th>...</th>\n",
              "      <td>...</td>\n",
              "      <td>...</td>\n",
              "      <td>...</td>\n",
              "      <td>...</td>\n",
              "      <td>...</td>\n",
              "      <td>...</td>\n",
              "      <td>...</td>\n",
              "      <td>...</td>\n",
              "      <td>...</td>\n",
              "      <td>...</td>\n",
              "      <td>...</td>\n",
              "      <td>...</td>\n",
              "      <td>...</td>\n",
              "      <td>...</td>\n",
              "      <td>...</td>\n",
              "      <td>...</td>\n",
              "      <td>...</td>\n",
              "      <td>...</td>\n",
              "      <td>...</td>\n",
              "    </tr>\n",
              "    <tr>\n",
              "      <th>9989</th>\n",
              "      <td>9990</td>\n",
              "      <td>2023-02-18</td>\n",
              "      <td>Second Class</td>\n",
              "      <td>Consumer</td>\n",
              "      <td>United States</td>\n",
              "      <td>Miami</td>\n",
              "      <td>Florida</td>\n",
              "      <td>33180</td>\n",
              "      <td>South</td>\n",
              "      <td>Furniture</td>\n",
              "      <td>Furnishings</td>\n",
              "      <td>FUR-FU-10001889</td>\n",
              "      <td>30</td>\n",
              "      <td>30</td>\n",
              "      <td>3</td>\n",
              "      <td>4</td>\n",
              "      <td>1.2</td>\n",
              "      <td>28.8</td>\n",
              "      <td>-1.2</td>\n",
              "    </tr>\n",
              "    <tr>\n",
              "      <th>9990</th>\n",
              "      <td>9991</td>\n",
              "      <td>2023-03-17</td>\n",
              "      <td>Standard Class</td>\n",
              "      <td>Consumer</td>\n",
              "      <td>United States</td>\n",
              "      <td>Costa Mesa</td>\n",
              "      <td>California</td>\n",
              "      <td>92627</td>\n",
              "      <td>West</td>\n",
              "      <td>Furniture</td>\n",
              "      <td>Furnishings</td>\n",
              "      <td>FUR-FU-10000747</td>\n",
              "      <td>70</td>\n",
              "      <td>90</td>\n",
              "      <td>2</td>\n",
              "      <td>4</td>\n",
              "      <td>3.6</td>\n",
              "      <td>86.4</td>\n",
              "      <td>16.4</td>\n",
              "    </tr>\n",
              "    <tr>\n",
              "      <th>9991</th>\n",
              "      <td>9992</td>\n",
              "      <td>2022-08-07</td>\n",
              "      <td>Standard Class</td>\n",
              "      <td>Consumer</td>\n",
              "      <td>United States</td>\n",
              "      <td>Costa Mesa</td>\n",
              "      <td>California</td>\n",
              "      <td>92627</td>\n",
              "      <td>West</td>\n",
              "      <td>Technology</td>\n",
              "      <td>Phones</td>\n",
              "      <td>TEC-PH-10003645</td>\n",
              "      <td>220</td>\n",
              "      <td>260</td>\n",
              "      <td>2</td>\n",
              "      <td>2</td>\n",
              "      <td>5.2</td>\n",
              "      <td>254.8</td>\n",
              "      <td>34.8</td>\n",
              "    </tr>\n",
              "    <tr>\n",
              "      <th>9992</th>\n",
              "      <td>9993</td>\n",
              "      <td>2022-11-19</td>\n",
              "      <td>Standard Class</td>\n",
              "      <td>Consumer</td>\n",
              "      <td>United States</td>\n",
              "      <td>Costa Mesa</td>\n",
              "      <td>California</td>\n",
              "      <td>92627</td>\n",
              "      <td>West</td>\n",
              "      <td>Office Supplies</td>\n",
              "      <td>Paper</td>\n",
              "      <td>OFF-PA-10004041</td>\n",
              "      <td>30</td>\n",
              "      <td>30</td>\n",
              "      <td>4</td>\n",
              "      <td>3</td>\n",
              "      <td>0.9</td>\n",
              "      <td>29.1</td>\n",
              "      <td>-0.9</td>\n",
              "    </tr>\n",
              "    <tr>\n",
              "      <th>9993</th>\n",
              "      <td>9994</td>\n",
              "      <td>2022-07-17</td>\n",
              "      <td>Second Class</td>\n",
              "      <td>Consumer</td>\n",
              "      <td>United States</td>\n",
              "      <td>Westminster</td>\n",
              "      <td>California</td>\n",
              "      <td>92683</td>\n",
              "      <td>West</td>\n",
              "      <td>Office Supplies</td>\n",
              "      <td>Appliances</td>\n",
              "      <td>OFF-AP-10002684</td>\n",
              "      <td>210</td>\n",
              "      <td>240</td>\n",
              "      <td>2</td>\n",
              "      <td>3</td>\n",
              "      <td>7.2</td>\n",
              "      <td>232.8</td>\n",
              "      <td>22.8</td>\n",
              "    </tr>\n",
              "  </tbody>\n",
              "</table>\n",
              "<p>9994 rows × 19 columns</p>\n",
              "</div>\n",
              "    <div class=\"colab-df-buttons\">\n",
              "\n",
              "  <div class=\"colab-df-container\">\n",
              "    <button class=\"colab-df-convert\" onclick=\"convertToInteractive('df-1e4217bf-056c-427a-a46f-f490e086fcd6')\"\n",
              "            title=\"Convert this dataframe to an interactive table.\"\n",
              "            style=\"display:none;\">\n",
              "\n",
              "  <svg xmlns=\"http://www.w3.org/2000/svg\" height=\"24px\" viewBox=\"0 -960 960 960\">\n",
              "    <path d=\"M120-120v-720h720v720H120Zm60-500h600v-160H180v160Zm220 220h160v-160H400v160Zm0 220h160v-160H400v160ZM180-400h160v-160H180v160Zm440 0h160v-160H620v160ZM180-180h160v-160H180v160Zm440 0h160v-160H620v160Z\"/>\n",
              "  </svg>\n",
              "    </button>\n",
              "\n",
              "  <style>\n",
              "    .colab-df-container {\n",
              "      display:flex;\n",
              "      gap: 12px;\n",
              "    }\n",
              "\n",
              "    .colab-df-convert {\n",
              "      background-color: #E8F0FE;\n",
              "      border: none;\n",
              "      border-radius: 50%;\n",
              "      cursor: pointer;\n",
              "      display: none;\n",
              "      fill: #1967D2;\n",
              "      height: 32px;\n",
              "      padding: 0 0 0 0;\n",
              "      width: 32px;\n",
              "    }\n",
              "\n",
              "    .colab-df-convert:hover {\n",
              "      background-color: #E2EBFA;\n",
              "      box-shadow: 0px 1px 2px rgba(60, 64, 67, 0.3), 0px 1px 3px 1px rgba(60, 64, 67, 0.15);\n",
              "      fill: #174EA6;\n",
              "    }\n",
              "\n",
              "    .colab-df-buttons div {\n",
              "      margin-bottom: 4px;\n",
              "    }\n",
              "\n",
              "    [theme=dark] .colab-df-convert {\n",
              "      background-color: #3B4455;\n",
              "      fill: #D2E3FC;\n",
              "    }\n",
              "\n",
              "    [theme=dark] .colab-df-convert:hover {\n",
              "      background-color: #434B5C;\n",
              "      box-shadow: 0px 1px 3px 1px rgba(0, 0, 0, 0.15);\n",
              "      filter: drop-shadow(0px 1px 2px rgba(0, 0, 0, 0.3));\n",
              "      fill: #FFFFFF;\n",
              "    }\n",
              "  </style>\n",
              "\n",
              "    <script>\n",
              "      const buttonEl =\n",
              "        document.querySelector('#df-1e4217bf-056c-427a-a46f-f490e086fcd6 button.colab-df-convert');\n",
              "      buttonEl.style.display =\n",
              "        google.colab.kernel.accessAllowed ? 'block' : 'none';\n",
              "\n",
              "      async function convertToInteractive(key) {\n",
              "        const element = document.querySelector('#df-1e4217bf-056c-427a-a46f-f490e086fcd6');\n",
              "        const dataTable =\n",
              "          await google.colab.kernel.invokeFunction('convertToInteractive',\n",
              "                                                    [key], {});\n",
              "        if (!dataTable) return;\n",
              "\n",
              "        const docLinkHtml = 'Like what you see? Visit the ' +\n",
              "          '<a target=\"_blank\" href=https://colab.research.google.com/notebooks/data_table.ipynb>data table notebook</a>'\n",
              "          + ' to learn more about interactive tables.';\n",
              "        element.innerHTML = '';\n",
              "        dataTable['output_type'] = 'display_data';\n",
              "        await google.colab.output.renderOutput(dataTable, element);\n",
              "        const docLink = document.createElement('div');\n",
              "        docLink.innerHTML = docLinkHtml;\n",
              "        element.appendChild(docLink);\n",
              "      }\n",
              "    </script>\n",
              "  </div>\n",
              "\n",
              "\n",
              "<div id=\"df-d39bd8d8-2417-440e-9241-1aedb2fcdb9c\">\n",
              "  <button class=\"colab-df-quickchart\" onclick=\"quickchart('df-d39bd8d8-2417-440e-9241-1aedb2fcdb9c')\"\n",
              "            title=\"Suggest charts\"\n",
              "            style=\"display:none;\">\n",
              "\n",
              "<svg xmlns=\"http://www.w3.org/2000/svg\" height=\"24px\"viewBox=\"0 0 24 24\"\n",
              "     width=\"24px\">\n",
              "    <g>\n",
              "        <path d=\"M19 3H5c-1.1 0-2 .9-2 2v14c0 1.1.9 2 2 2h14c1.1 0 2-.9 2-2V5c0-1.1-.9-2-2-2zM9 17H7v-7h2v7zm4 0h-2V7h2v10zm4 0h-2v-4h2v4z\"/>\n",
              "    </g>\n",
              "</svg>\n",
              "  </button>\n",
              "\n",
              "<style>\n",
              "  .colab-df-quickchart {\n",
              "      --bg-color: #E8F0FE;\n",
              "      --fill-color: #1967D2;\n",
              "      --hover-bg-color: #E2EBFA;\n",
              "      --hover-fill-color: #174EA6;\n",
              "      --disabled-fill-color: #AAA;\n",
              "      --disabled-bg-color: #DDD;\n",
              "  }\n",
              "\n",
              "  [theme=dark] .colab-df-quickchart {\n",
              "      --bg-color: #3B4455;\n",
              "      --fill-color: #D2E3FC;\n",
              "      --hover-bg-color: #434B5C;\n",
              "      --hover-fill-color: #FFFFFF;\n",
              "      --disabled-bg-color: #3B4455;\n",
              "      --disabled-fill-color: #666;\n",
              "  }\n",
              "\n",
              "  .colab-df-quickchart {\n",
              "    background-color: var(--bg-color);\n",
              "    border: none;\n",
              "    border-radius: 50%;\n",
              "    cursor: pointer;\n",
              "    display: none;\n",
              "    fill: var(--fill-color);\n",
              "    height: 32px;\n",
              "    padding: 0;\n",
              "    width: 32px;\n",
              "  }\n",
              "\n",
              "  .colab-df-quickchart:hover {\n",
              "    background-color: var(--hover-bg-color);\n",
              "    box-shadow: 0 1px 2px rgba(60, 64, 67, 0.3), 0 1px 3px 1px rgba(60, 64, 67, 0.15);\n",
              "    fill: var(--button-hover-fill-color);\n",
              "  }\n",
              "\n",
              "  .colab-df-quickchart-complete:disabled,\n",
              "  .colab-df-quickchart-complete:disabled:hover {\n",
              "    background-color: var(--disabled-bg-color);\n",
              "    fill: var(--disabled-fill-color);\n",
              "    box-shadow: none;\n",
              "  }\n",
              "\n",
              "  .colab-df-spinner {\n",
              "    border: 2px solid var(--fill-color);\n",
              "    border-color: transparent;\n",
              "    border-bottom-color: var(--fill-color);\n",
              "    animation:\n",
              "      spin 1s steps(1) infinite;\n",
              "  }\n",
              "\n",
              "  @keyframes spin {\n",
              "    0% {\n",
              "      border-color: transparent;\n",
              "      border-bottom-color: var(--fill-color);\n",
              "      border-left-color: var(--fill-color);\n",
              "    }\n",
              "    20% {\n",
              "      border-color: transparent;\n",
              "      border-left-color: var(--fill-color);\n",
              "      border-top-color: var(--fill-color);\n",
              "    }\n",
              "    30% {\n",
              "      border-color: transparent;\n",
              "      border-left-color: var(--fill-color);\n",
              "      border-top-color: var(--fill-color);\n",
              "      border-right-color: var(--fill-color);\n",
              "    }\n",
              "    40% {\n",
              "      border-color: transparent;\n",
              "      border-right-color: var(--fill-color);\n",
              "      border-top-color: var(--fill-color);\n",
              "    }\n",
              "    60% {\n",
              "      border-color: transparent;\n",
              "      border-right-color: var(--fill-color);\n",
              "    }\n",
              "    80% {\n",
              "      border-color: transparent;\n",
              "      border-right-color: var(--fill-color);\n",
              "      border-bottom-color: var(--fill-color);\n",
              "    }\n",
              "    90% {\n",
              "      border-color: transparent;\n",
              "      border-bottom-color: var(--fill-color);\n",
              "    }\n",
              "  }\n",
              "</style>\n",
              "\n",
              "  <script>\n",
              "    async function quickchart(key) {\n",
              "      const quickchartButtonEl =\n",
              "        document.querySelector('#' + key + ' button');\n",
              "      quickchartButtonEl.disabled = true;  // To prevent multiple clicks.\n",
              "      quickchartButtonEl.classList.add('colab-df-spinner');\n",
              "      try {\n",
              "        const charts = await google.colab.kernel.invokeFunction(\n",
              "            'suggestCharts', [key], {});\n",
              "      } catch (error) {\n",
              "        console.error('Error during call to suggestCharts:', error);\n",
              "      }\n",
              "      quickchartButtonEl.classList.remove('colab-df-spinner');\n",
              "      quickchartButtonEl.classList.add('colab-df-quickchart-complete');\n",
              "    }\n",
              "    (() => {\n",
              "      let quickchartButtonEl =\n",
              "        document.querySelector('#df-d39bd8d8-2417-440e-9241-1aedb2fcdb9c button');\n",
              "      quickchartButtonEl.style.display =\n",
              "        google.colab.kernel.accessAllowed ? 'block' : 'none';\n",
              "    })();\n",
              "  </script>\n",
              "</div>\n",
              "\n",
              "  <div id=\"id_d5e39f37-f43a-49bd-a77b-7ae42077f25f\">\n",
              "    <style>\n",
              "      .colab-df-generate {\n",
              "        background-color: #E8F0FE;\n",
              "        border: none;\n",
              "        border-radius: 50%;\n",
              "        cursor: pointer;\n",
              "        display: none;\n",
              "        fill: #1967D2;\n",
              "        height: 32px;\n",
              "        padding: 0 0 0 0;\n",
              "        width: 32px;\n",
              "      }\n",
              "\n",
              "      .colab-df-generate:hover {\n",
              "        background-color: #E2EBFA;\n",
              "        box-shadow: 0px 1px 2px rgba(60, 64, 67, 0.3), 0px 1px 3px 1px rgba(60, 64, 67, 0.15);\n",
              "        fill: #174EA6;\n",
              "      }\n",
              "\n",
              "      [theme=dark] .colab-df-generate {\n",
              "        background-color: #3B4455;\n",
              "        fill: #D2E3FC;\n",
              "      }\n",
              "\n",
              "      [theme=dark] .colab-df-generate:hover {\n",
              "        background-color: #434B5C;\n",
              "        box-shadow: 0px 1px 3px 1px rgba(0, 0, 0, 0.15);\n",
              "        filter: drop-shadow(0px 1px 2px rgba(0, 0, 0, 0.3));\n",
              "        fill: #FFFFFF;\n",
              "      }\n",
              "    </style>\n",
              "    <button class=\"colab-df-generate\" onclick=\"generateWithVariable('project1')\"\n",
              "            title=\"Generate code using this dataframe.\"\n",
              "            style=\"display:none;\">\n",
              "\n",
              "  <svg xmlns=\"http://www.w3.org/2000/svg\" height=\"24px\"viewBox=\"0 0 24 24\"\n",
              "       width=\"24px\">\n",
              "    <path d=\"M7,19H8.4L18.45,9,17,7.55,7,17.6ZM5,21V16.75L18.45,3.32a2,2,0,0,1,2.83,0l1.4,1.43a1.91,1.91,0,0,1,.58,1.4,1.91,1.91,0,0,1-.58,1.4L9.25,21ZM18.45,9,17,7.55Zm-12,3A5.31,5.31,0,0,0,4.9,8.1,5.31,5.31,0,0,0,1,6.5,5.31,5.31,0,0,0,4.9,4.9,5.31,5.31,0,0,0,6.5,1,5.31,5.31,0,0,0,8.1,4.9,5.31,5.31,0,0,0,12,6.5,5.46,5.46,0,0,0,6.5,12Z\"/>\n",
              "  </svg>\n",
              "    </button>\n",
              "    <script>\n",
              "      (() => {\n",
              "      const buttonEl =\n",
              "        document.querySelector('#id_d5e39f37-f43a-49bd-a77b-7ae42077f25f button.colab-df-generate');\n",
              "      buttonEl.style.display =\n",
              "        google.colab.kernel.accessAllowed ? 'block' : 'none';\n",
              "\n",
              "      buttonEl.onclick = () => {\n",
              "        google.colab.notebook.generateWithVariable('project1');\n",
              "      }\n",
              "      })();\n",
              "    </script>\n",
              "  </div>\n",
              "\n",
              "    </div>\n",
              "  </div>\n"
            ],
            "application/vnd.google.colaboratory.intrinsic+json": {
              "type": "dataframe",
              "variable_name": "project1",
              "summary": "{\n  \"name\": \"project1\",\n  \"rows\": 9994,\n  \"fields\": [\n    {\n      \"column\": \"order_id\",\n      \"properties\": {\n        \"dtype\": \"number\",\n        \"std\": 2885,\n        \"min\": 1,\n        \"max\": 9994,\n        \"num_unique_values\": 9994,\n        \"samples\": [\n          3126,\n          1442,\n          4511\n        ],\n        \"semantic_type\": \"\",\n        \"description\": \"\"\n      }\n    },\n    {\n      \"column\": \"order_date\",\n      \"properties\": {\n        \"dtype\": \"object\",\n        \"num_unique_values\": 730,\n        \"samples\": [\n          \"2022-11-04\",\n          \"2023-10-14\",\n          \"2023-09-23\"\n        ],\n        \"semantic_type\": \"\",\n        \"description\": \"\"\n      }\n    },\n    {\n      \"column\": \"ship_mode\",\n      \"properties\": {\n        \"dtype\": \"category\",\n        \"num_unique_values\": 5,\n        \"samples\": [\n          \"Standard Class\",\n          \"Same Day\",\n          \"0\"\n        ],\n        \"semantic_type\": \"\",\n        \"description\": \"\"\n      }\n    },\n    {\n      \"column\": \"segment\",\n      \"properties\": {\n        \"dtype\": \"category\",\n        \"num_unique_values\": 3,\n        \"samples\": [\n          \"Consumer\",\n          \"Corporate\",\n          \"Home Office\"\n        ],\n        \"semantic_type\": \"\",\n        \"description\": \"\"\n      }\n    },\n    {\n      \"column\": \"country\",\n      \"properties\": {\n        \"dtype\": \"category\",\n        \"num_unique_values\": 1,\n        \"samples\": [\n          \"United States\"\n        ],\n        \"semantic_type\": \"\",\n        \"description\": \"\"\n      }\n    },\n    {\n      \"column\": \"city\",\n      \"properties\": {\n        \"dtype\": \"category\",\n        \"num_unique_values\": 531,\n        \"samples\": [\n          \"Laurel\"\n        ],\n        \"semantic_type\": \"\",\n        \"description\": \"\"\n      }\n    },\n    {\n      \"column\": \"state\",\n      \"properties\": {\n        \"dtype\": \"category\",\n        \"num_unique_values\": 49,\n        \"samples\": [\n          \"Delaware\"\n        ],\n        \"semantic_type\": \"\",\n        \"description\": \"\"\n      }\n    },\n    {\n      \"column\": \"postal_code\",\n      \"properties\": {\n        \"dtype\": \"number\",\n        \"std\": 32063,\n        \"min\": 1040,\n        \"max\": 99301,\n        \"num_unique_values\": 631,\n        \"samples\": [\n          30062\n        ],\n        \"semantic_type\": \"\",\n        \"description\": \"\"\n      }\n    },\n    {\n      \"column\": \"region\",\n      \"properties\": {\n        \"dtype\": \"category\",\n        \"num_unique_values\": 4,\n        \"samples\": [\n          \"West\"\n        ],\n        \"semantic_type\": \"\",\n        \"description\": \"\"\n      }\n    },\n    {\n      \"column\": \"category\",\n      \"properties\": {\n        \"dtype\": \"category\",\n        \"num_unique_values\": 3,\n        \"samples\": [\n          \"Furniture\"\n        ],\n        \"semantic_type\": \"\",\n        \"description\": \"\"\n      }\n    },\n    {\n      \"column\": \"sub_category\",\n      \"properties\": {\n        \"dtype\": \"category\",\n        \"num_unique_values\": 17,\n        \"samples\": [\n          \"Bookcases\"\n        ],\n        \"semantic_type\": \"\",\n        \"description\": \"\"\n      }\n    },\n    {\n      \"column\": \"product_id\",\n      \"properties\": {\n        \"dtype\": \"category\",\n        \"num_unique_values\": 1862,\n        \"samples\": [\n          \"TEC-PH-10001580\"\n        ],\n        \"semantic_type\": \"\",\n        \"description\": \"\"\n      }\n    },\n    {\n      \"column\": \"cost_price\",\n      \"properties\": {\n        \"dtype\": \"number\",\n        \"std\": 537,\n        \"min\": 0,\n        \"max\": 18110,\n        \"num_unique_values\": 280,\n        \"samples\": [\n          790\n        ],\n        \"semantic_type\": \"\",\n        \"description\": \"\"\n      }\n    },\n    {\n      \"column\": \"list_price\",\n      \"properties\": {\n        \"dtype\": \"number\",\n        \"std\": 623,\n        \"min\": 0,\n        \"max\": 22640,\n        \"num_unique_values\": 289,\n        \"samples\": [\n          380\n        ],\n        \"semantic_type\": \"\",\n        \"description\": \"\"\n      }\n    },\n    {\n      \"column\": \"quantity\",\n      \"properties\": {\n        \"dtype\": \"number\",\n        \"std\": 2,\n        \"min\": 1,\n        \"max\": 14,\n        \"num_unique_values\": 14,\n        \"samples\": [\n          14\n        ],\n        \"semantic_type\": \"\",\n        \"description\": \"\"\n      }\n    },\n    {\n      \"column\": \"discount_percent\",\n      \"properties\": {\n        \"dtype\": \"number\",\n        \"std\": 1,\n        \"min\": 2,\n        \"max\": 5,\n        \"num_unique_values\": 4,\n        \"samples\": [\n          3\n        ],\n        \"semantic_type\": \"\",\n        \"description\": \"\"\n      }\n    },\n    {\n      \"column\": \"discount_amount\",\n      \"properties\": {\n        \"dtype\": \"number\",\n        \"std\": 22.978003644952345,\n        \"min\": 0.0,\n        \"max\": 905.6,\n        \"num_unique_values\": 490,\n        \"samples\": [\n          38.5\n        ],\n        \"semantic_type\": \"\",\n        \"description\": \"\"\n      }\n    },\n    {\n      \"column\": \"sale_price\",\n      \"properties\": {\n        \"dtype\": \"number\",\n        \"std\": 601.3996037314255,\n        \"min\": 0.0,\n        \"max\": 21734.4,\n        \"num_unique_values\": 700,\n        \"samples\": [\n          835.2\n        ],\n        \"semantic_type\": \"\",\n        \"description\": \"\"\n      }\n    },\n    {\n      \"column\": \"profit\",\n      \"properties\": {\n        \"dtype\": \"number\",\n        \"std\": 72.51454722531055,\n        \"min\": -5.0,\n        \"max\": 3624.4000000000015,\n        \"num_unique_values\": 1109,\n        \"samples\": [\n          62.60000000000002\n        ],\n        \"semantic_type\": \"\",\n        \"description\": \"\"\n      }\n    }\n  ]\n}"
            }
          },
          "metadata": {}
        }
      ],
      "source": [
        "display(project1)"
      ]
    },
    {
      "cell_type": "code",
      "execution_count": 17,
      "metadata": {
        "colab": {
          "base_uri": "https://localhost:8080/"
        },
        "id": "2RqsMbWyIglf",
        "outputId": "a777492a-914e-41ba-8c08-7e31d555337a"
      },
      "outputs": [
        {
          "output_type": "execute_result",
          "data": {
            "text/plain": [
              "Index(['order_id', 'order_date', 'ship_mode', 'segment', 'country', 'city',\n",
              "       'state', 'postal_code', 'region', 'category', 'sub_category',\n",
              "       'product_id', 'cost_price', 'list_price', 'quantity',\n",
              "       'discount_percent', 'discount_amount', 'sale_price', 'profit'],\n",
              "      dtype='object')"
            ]
          },
          "metadata": {},
          "execution_count": 17
        }
      ],
      "source": [
        "project1.columns"
      ]
    },
    {
      "cell_type": "code",
      "execution_count": 18,
      "metadata": {
        "id": "dSSa9v0XIe99"
      },
      "outputs": [],
      "source": [
        "order_table1 = project1[['order_id', 'order_date', 'ship_mode', 'segment', 'country', 'city', 'state', 'postal_code', 'region', 'category']]\n",
        "order_table2 = project1[[ 'order_id', 'sub_category','product_id', 'cost_price', 'list_price', 'quantity','discount_percent', 'discount_amount', 'sale_price', 'profit']]"
      ]
    },
    {
      "cell_type": "code",
      "execution_count": 19,
      "metadata": {
        "id": "_mtaiFzjKh_j"
      },
      "outputs": [],
      "source": [
        "#order_table1.to_csv('order_table1.csv')\n",
        "#order_table2.to_csv('order_table2.csv')  #USED THIS Code to extract this file in local file, then to upload those files in Tidb cloud"
      ]
    },
    {
      "cell_type": "code",
      "execution_count": 20,
      "metadata": {
        "colab": {
          "base_uri": "https://localhost:8080/"
        },
        "id": "KFjtS5ky9TSZ",
        "outputId": "768b411e-8d92-4889-fd96-5f380cae1dd5"
      },
      "outputs": [
        {
          "output_type": "stream",
          "name": "stdout",
          "text": [
            "Collecting mysql-connector-python\n",
            "  Downloading mysql_connector_python-9.2.0-cp311-cp311-manylinux_2_28_x86_64.whl.metadata (6.0 kB)\n",
            "Downloading mysql_connector_python-9.2.0-cp311-cp311-manylinux_2_28_x86_64.whl (34.0 MB)\n",
            "\u001b[2K   \u001b[90m━━━━━━━━━━━━━━━━━━━━━━━━━━━━━━━━━━━━━━━━\u001b[0m \u001b[32m34.0/34.0 MB\u001b[0m \u001b[31m49.5 MB/s\u001b[0m eta \u001b[36m0:00:00\u001b[0m\n",
            "\u001b[?25hInstalling collected packages: mysql-connector-python\n",
            "Successfully installed mysql-connector-python-9.2.0\n"
          ]
        }
      ],
      "source": [
        "!pip install mysql-connector-python"
      ]
    },
    {
      "cell_type": "code",
      "execution_count": 21,
      "metadata": {
        "id": "0JK9yxNRA0Iy"
      },
      "outputs": [],
      "source": [
        "import mysql.connector\n",
        "\n",
        "connection = mysql.connector.connect(\n",
        "  host = \"gateway01.ap-southeast-1.prod.aws.tidbcloud.com\",\n",
        "  port = 4000,\n",
        "  user = \"42gLBzNbmFpVnrp.root\",\n",
        "  password = \"M4zJcGITE38JycpJ\",\n",
        "  database = \"Retail_Order_Analysis\",\n",
        ")"
      ]
    },
    {
      "cell_type": "code",
      "execution_count": 22,
      "metadata": {
        "id": "HTaanJhQDu3b"
      },
      "outputs": [],
      "source": [
        "mycursor=connection.cursor()"
      ]
    },
    {
      "cell_type": "code",
      "execution_count": 23,
      "metadata": {
        "colab": {
          "base_uri": "https://localhost:8080/"
        },
        "id": "jfnqv2cyOpcr",
        "outputId": "9d1ac077-09ee-4147-c9ba-c7cf342f05c9"
      },
      "outputs": [
        {
          "output_type": "stream",
          "name": "stdout",
          "text": [
            "Requirement already satisfied: tabulate in /usr/local/lib/python3.11/dist-packages (0.9.0)\n"
          ]
        }
      ],
      "source": [
        "!pip install tabulate"
      ]
    },
    {
      "cell_type": "code",
      "execution_count": 24,
      "metadata": {
        "colab": {
          "base_uri": "https://localhost:8080/"
        },
        "collapsed": true,
        "id": "XRKKl-jEOFc1",
        "outputId": "e689aaa4-003f-4717-d0d0-6ed84afa57b2"
      },
      "outputs": [
        {
          "output_type": "stream",
          "name": "stdout",
          "text": [
            "+-----------------+-----------------+\n",
            "| product_id      |   total_revenue |\n",
            "|-----------------+-----------------|\n",
            "| TEC-CO-10004722 |         59514   |\n",
            "| OFF-BI-10003527 |         26525.3 |\n",
            "| TEC-MA-10002412 |         21734.4 |\n",
            "| FUR-CH-10002024 |         21096.2 |\n",
            "| OFF-BI-10001359 |         19090.2 |\n",
            "| OFF-BI-10000545 |         18249   |\n",
            "| TEC-CO-10001449 |         18151.2 |\n",
            "| TEC-MA-10001127 |         17906.4 |\n",
            "| OFF-BI-10004995 |         17354.8 |\n",
            "| OFF-SU-10000151 |         16325.8 |\n",
            "+-----------------+-----------------+\n"
          ]
        }
      ],
      "source": [
        "#1.Find top 10 highest revenue generating products\n",
        "\n",
        "mycursor.execute('''SELECT product_id, SUM(sale_price) AS total_revenue FROM order_table2 GROUP BY product_id\n",
        "ORDER BY total_revenue DESC LIMIT 10;''')\n",
        "out=mycursor.fetchall()\n",
        "from tabulate import tabulate\n",
        "print(tabulate(out,headers=[i[0] for i in mycursor.description],  tablefmt='psql'))"
      ]
    },
    {
      "cell_type": "code",
      "execution_count": 25,
      "metadata": {
        "colab": {
          "base_uri": "https://localhost:8080/"
        },
        "collapsed": true,
        "id": "rQtaWMECY2v5",
        "outputId": "cdb4cf6d-b3ef-491d-f6d3-130d428d6140"
      },
      "outputs": [
        {
          "output_type": "stream",
          "name": "stdout",
          "text": [
            "+---------------+----------------+\n",
            "| city          |   total_profit |\n",
            "|---------------+----------------|\n",
            "| New York City |        20925.7 |\n",
            "| Los Angeles   |        15088.4 |\n",
            "| San Francisco |        10140.1 |\n",
            "| Seattle       |         9828.7 |\n",
            "| Philadelphia  |         9788.3 |\n",
            "+---------------+----------------+\n"
          ]
        }
      ],
      "source": [
        "# 2.Find the top 5 cities with the highest profit margins\n",
        "\n",
        "mycursor.execute('''SELECT city, SUM(profit) AS total_profit FROM order_table1 JOIN order_table2 ON order_table1.order_id = order_table2.order_id\n",
        "GROUP BY city ORDER BY total_profit DESC LIMIT 5;''')\n",
        "out=mycursor.fetchall()\n",
        "from tabulate import tabulate\n",
        "print(tabulate(out,headers=[i[0] for i in mycursor.description],  tablefmt='psql'))"
      ]
    },
    {
      "cell_type": "code",
      "execution_count": 26,
      "metadata": {
        "colab": {
          "base_uri": "https://localhost:8080/"
        },
        "id": "yOJ04T9hZmqu",
        "outputId": "82542e08-04d0-4371-90d5-1ab6695f6e38"
      },
      "outputs": [
        {
          "output_type": "stream",
          "name": "stdout",
          "text": [
            "+-----------------+------------------+\n",
            "| category        |   total_discount |\n",
            "|-----------------+------------------|\n",
            "| Office Supplies |          24935.5 |\n",
            "| Technology      |          29346.5 |\n",
            "| Furniture       |          26049.3 |\n",
            "+-----------------+------------------+\n"
          ]
        }
      ],
      "source": [
        "#3.Calculate the total discount given for each category\n",
        "\n",
        "mycursor.execute('''SELECT category, SUM(discount_amount) AS total_discount FROM order_table1\n",
        "JOIN order_table2 ON order_table1.order_id = order_table2.order_id\n",
        "GROUP BY category;''')\n",
        "out=mycursor.fetchall()\n",
        "from tabulate import tabulate\n",
        "print(tabulate(out,headers=[i[0] for i in mycursor.description],  tablefmt='psql'))"
      ]
    },
    {
      "cell_type": "markdown",
      "metadata": {
        "id": "q_JDdfNmJpRx"
      },
      "source": []
    },
    {
      "cell_type": "code",
      "execution_count": 27,
      "metadata": {
        "colab": {
          "base_uri": "https://localhost:8080/"
        },
        "id": "kHaJGIKryrVt",
        "outputId": "1e731afa-3b96-4bc4-b520-d48182899f73"
      },
      "outputs": [
        {
          "output_type": "stream",
          "name": "stdout",
          "text": [
            "+-----------------+----------------------+\n",
            "| category        |   average_sale_price |\n",
            "|-----------------+----------------------|\n",
            "| Technology      |              436.856 |\n",
            "| Furniture       |              337.266 |\n",
            "| Office Supplies |              115.109 |\n",
            "+-----------------+----------------------+\n"
          ]
        }
      ],
      "source": [
        "#4.Find the average sale price per product category\n",
        "\n",
        "mycursor.execute('''SELECT category, AVG(sale_price) AS average_sale_price FROM Retail_order_analysis.order_table2 JOIN order_table1 ON order_table2.order_id = order_table1.order_id\n",
        "GROUP BY category;''')\n",
        "out=mycursor.fetchall()\n",
        "from tabulate import tabulate\n",
        "print(tabulate(out,headers=[i[0] for i in mycursor.description],  tablefmt='psql'))"
      ]
    },
    {
      "cell_type": "code",
      "execution_count": 28,
      "metadata": {
        "colab": {
          "base_uri": "https://localhost:8080/"
        },
        "id": "Q15WAMK9taUa",
        "outputId": "1a736acd-ca34-46d3-f6b3-d20cf3680447"
      },
      "outputs": [
        {
          "output_type": "stream",
          "name": "stdout",
          "text": [
            "+----------+------------------+\n",
            "| region   |   avg_sale_price |\n",
            "|----------+------------------|\n",
            "| South    |          233.34  |\n",
            "| Central  |          208.209 |\n",
            "| East     |          229.747 |\n",
            "| West     |          218.501 |\n",
            "+----------+------------------+\n"
          ]
        }
      ],
      "source": [
        "#5.Find the region with the highest average sale price\n",
        "\n",
        "mycursor.execute('''SELECT region, AVG(sale_price) AS avg_sale_price FROM Retail_order_analysis.order_table2 JOIN order_table1 ON order_table2.order_id = order_table1.order_id\n",
        "GROUP BY region;''')\n",
        "out=mycursor.fetchall()\n",
        "from tabulate import tabulate\n",
        "print(tabulate(out,headers=[i[0] for i in mycursor.description],  tablefmt='psql'))"
      ]
    },
    {
      "cell_type": "code",
      "execution_count": 29,
      "metadata": {
        "colab": {
          "base_uri": "https://localhost:8080/"
        },
        "id": "xySZmbqUP6_m",
        "outputId": "fd616ee7-7d54-4710-d282-5300567db913"
      },
      "outputs": [
        {
          "output_type": "stream",
          "name": "stdout",
          "text": [
            "+-----------------+------------------+\n",
            "| category        |   overall_profit |\n",
            "|-----------------+------------------|\n",
            "| Office Supplies |          62254.5 |\n",
            "| Technology      |          76433.5 |\n",
            "| Furniture       |          66480.7 |\n",
            "+-----------------+------------------+\n"
          ]
        }
      ],
      "source": [
        "# 6.Find the total profit per category\n",
        "\n",
        "mycursor.execute('''SELECT category, sum(profit) as overall_profit FROM Retail_order_analysis.order_table2 JOIN order_table1 ON order_table2.order_id = order_table1.order_id\n",
        "GROUP BY category;''')\n",
        "out=mycursor.fetchall()\n",
        "from tabulate import tabulate\n",
        "print(tabulate(out,headers=[i[0] for i in mycursor.description],  tablefmt='psql'))"
      ]
    },
    {
      "cell_type": "code",
      "execution_count": 30,
      "metadata": {
        "colab": {
          "base_uri": "https://localhost:8080/"
        },
        "id": "6vZIBJk3RckG",
        "outputId": "800c82a0-3be4-4dab-8c18-f99fb19597b4"
      },
      "outputs": [
        {
          "output_type": "stream",
          "name": "stdout",
          "text": [
            "+-------------+------------------+\n",
            "| segment     |   total_quantity |\n",
            "|-------------+------------------|\n",
            "| Consumer    |            19521 |\n",
            "| Corporate   |            11608 |\n",
            "| Home Office |             6744 |\n",
            "+-------------+------------------+\n"
          ]
        }
      ],
      "source": [
        "#7.Identify the top 3 segments with the highest quantity of orders\n",
        "\n",
        "mycursor.execute('''SELECT segment, SUM(quantity) AS total_quantity FROM Retail_order_analysis.order_table2 JOIN order_table1 ON order_table2.order_id = order_table1.order_id\n",
        "GROUP BY segment ORDER BY total_quantity DESC LIMIT 3;''')\n",
        "out=mycursor.fetchall()\n",
        "from tabulate import tabulate\n",
        "print(tabulate(out,headers=[i[0] for i in mycursor.description],  tablefmt='psql'))"
      ]
    },
    {
      "cell_type": "code",
      "execution_count": 31,
      "metadata": {
        "colab": {
          "base_uri": "https://localhost:8080/"
        },
        "id": "7P2FomCITZ8z",
        "outputId": "24450e45-3134-45ed-b0be-50d2e9685b82"
      },
      "outputs": [
        {
          "output_type": "stream",
          "name": "stdout",
          "text": [
            "+----------+------------------------+\n",
            "| region   |   avg_discount_percent |\n",
            "|----------+------------------------|\n",
            "| West     |                 3.4849 |\n",
            "| East     |                 3.4937 |\n",
            "| Central  |                 3.4722 |\n",
            "| South    |                 3.4827 |\n",
            "+----------+------------------------+\n"
          ]
        }
      ],
      "source": [
        "# 8.Determine the average discount percentage given per region\n",
        "\n",
        "mycursor.execute('''SELECT region, AVG(discount_percent) AS avg_discount_percent FROM Retail_order_analysis.order_table2\n",
        "JOIN order_table1 ON order_table2.order_id = order_table1.order_id\n",
        "GROUP BY region;''')\n",
        "out=mycursor.fetchall()\n",
        "from tabulate import tabulate\n",
        "print(tabulate(out,headers=[i[0] for i in mycursor.description],  tablefmt='psql'))"
      ]
    },
    {
      "cell_type": "code",
      "execution_count": 32,
      "metadata": {
        "colab": {
          "base_uri": "https://localhost:8080/"
        },
        "id": "W4JucagrTvlS",
        "outputId": "08b8e7ee-e16b-4840-fa7a-4292e872fc42"
      },
      "outputs": [
        {
          "output_type": "stream",
          "name": "stdout",
          "text": [
            "+--------------------+----------------+\n",
            "| product_category   |   total_profit |\n",
            "|--------------------+----------------|\n",
            "| Machines           |        18121.7 |\n",
            "| Envelopes          |         1247.2 |\n",
            "| Tables             |        18591.2 |\n",
            "| Furnishings        |         7578.3 |\n",
            "| Chairs             |        29815.1 |\n",
            "| Accessories        |        15444.6 |\n",
            "| Appliances         |        10267.7 |\n",
            "| Bookcases          |        10496.1 |\n",
            "| Binders            |        19208.6 |\n",
            "| Storage            |        19538   |\n",
            "| Phones             |        28368.3 |\n",
            "| Fasteners          |           48.9 |\n",
            "| Paper              |         6001.3 |\n",
            "| Copiers            |        14498.9 |\n",
            "| Art                |         1859.8 |\n",
            "| Supplies           |         3438.1 |\n",
            "| Labels             |          644.9 |\n",
            "+--------------------+----------------+\n"
          ]
        }
      ],
      "source": [
        "# 9.Find the product category with the highest total profit\n",
        "\n",
        "mycursor.execute('''SELECT sub_category as product_category, SUM(profit) AS total_profit FROM Retail_order_analysis.order_table2\n",
        "GROUP BY sub_category;''')\n",
        "out=mycursor.fetchall()\n",
        "from tabulate import tabulate\n",
        "print(tabulate(out,headers=[i[0] for i in mycursor.description],  tablefmt='psql'))"
      ]
    },
    {
      "cell_type": "code",
      "execution_count": 33,
      "metadata": {
        "colab": {
          "base_uri": "https://localhost:8080/"
        },
        "id": "bWNYnR1cW8LL",
        "outputId": "1d857f8e-9650-45a1-a5b0-0a5d8e653bd3"
      },
      "outputs": [
        {
          "output_type": "stream",
          "name": "stdout",
          "text": [
            "+--------------+-----------------+\n",
            "|   order_year | total_revenue   |\n",
            "|--------------+-----------------|\n",
            "|         2022 | $1,095,590.20   |\n",
            "|         2023 | $1,120,268.50   |\n",
            "+--------------+-----------------+\n"
          ]
        }
      ],
      "source": [
        "#10.Calculate the total revenue generated per year\n",
        "mycursor.execute('''SELECT YEAR(order_date) AS order_year, CONCAT('$', FORMAT(SUM(sale_price), 2))AS total_revenue\n",
        "FROM Retail_order_analysis.order_table2 JOIN order_table1 ON order_table2.order_id = order_table1.order_id\n",
        " GROUP BY YEAR(order_date);''')\n",
        "out=mycursor.fetchall()\n",
        "from tabulate import tabulate\n",
        "print(tabulate(out,headers=[i[0] for i in mycursor.description],  tablefmt='psql'))"
      ]
    },
    {
      "cell_type": "code",
      "execution_count": 34,
      "metadata": {
        "colab": {
          "base_uri": "https://localhost:8080/"
        },
        "id": "RazD6ELb6YaH",
        "outputId": "96e60638-7ee2-4622-ba67-e1ec87484c57"
      },
      "outputs": [
        {
          "output_type": "stream",
          "name": "stdout",
          "text": [
            "+--------------+---------------------+\n",
            "| state        |   total_phone_sales |\n",
            "|--------------+---------------------|\n",
            "| California   |                 691 |\n",
            "| New York     |                 393 |\n",
            "| Texas        |                 315 |\n",
            "| Pennsylvania |                 235 |\n",
            "| Ohio         |                 179 |\n",
            "+--------------+---------------------+\n"
          ]
        }
      ],
      "source": [
        "# 11.Find the top 5 states with the highest phone sales\n",
        "\n",
        "mycursor.execute('''SELECT state, SUM(quantity) AS total_phone_sales\n",
        "FROM Retail_order_analysis.order_table2 JOIN order_table1 ON order_table2.order_id = order_table1.order_id\n",
        "WHERE sub_category = 'Phones' GROUP BY state ORDER BY total_phone_sales DESC LIMIT 5;''')\n",
        "out=mycursor.fetchall()\n",
        "from tabulate import tabulate\n",
        "print(tabulate(out,headers=[i[0] for i in mycursor.description],  tablefmt='psql'))"
      ]
    },
    {
      "cell_type": "code",
      "execution_count": 35,
      "metadata": {
        "colab": {
          "base_uri": "https://localhost:8080/"
        },
        "id": "h2dAxQIJ9lLb",
        "outputId": "00987630-2da8-480f-9959-8fab0e13561e"
      },
      "outputs": [
        {
          "output_type": "stream",
          "name": "stdout",
          "text": [
            "+-----------------+----------------+\n",
            "| product_id      |   total_profit |\n",
            "|-----------------+----------------|\n",
            "| TEC-CO-10004722 |           5644 |\n",
            "+-----------------+----------------+\n"
          ]
        }
      ],
      "source": [
        "# 12.Find the product which has highest profit\n",
        "\n",
        "mycursor.execute('''SELECT product_id, SUM(profit) AS total_profit FROM Retail_order_analysis.order_table2\n",
        "GROUP BY product_id order by total_profit DESC LIMIT 1;''')\n",
        "out=mycursor.fetchall()\n",
        "from tabulate import tabulate\n",
        "print(tabulate(out,headers=[i[0] for i in mycursor.description],  tablefmt='psql'))"
      ]
    },
    {
      "cell_type": "code",
      "execution_count": 36,
      "metadata": {
        "colab": {
          "base_uri": "https://localhost:8080/"
        },
        "id": "mIFNsKduB22o",
        "outputId": "2ec3676d-ae3c-453f-b331-4ca5adf27a95"
      },
      "outputs": [
        {
          "output_type": "stream",
          "name": "stdout",
          "text": [
            "+----------------+----------------+-------------------+\n",
            "| sub_category   |   total_profit | profit_category   |\n",
            "|----------------+----------------+-------------------|\n",
            "| Fasteners      |           48.9 | Low Profit        |\n",
            "| Labels         |          644.9 | Low Profit        |\n",
            "| Envelopes      |         1247.2 | Low Profit        |\n",
            "| Art            |         1859.8 | Low Profit        |\n",
            "| Supplies       |         3438.1 | Low Profit        |\n",
            "| Paper          |         6001.3 | Low Profit        |\n",
            "| Furnishings    |         7578.3 | Low Profit        |\n",
            "| Appliances     |        10267.7 | Medium Profit     |\n",
            "| Bookcases      |        10496.1 | Medium Profit     |\n",
            "| Copiers        |        14498.9 | Medium Profit     |\n",
            "| Accessories    |        15444.6 | Medium Profit     |\n",
            "| Machines       |        18121.7 | Medium Profit     |\n",
            "| Tables         |        18591.2 | Medium Profit     |\n",
            "| Binders        |        19208.6 | Medium Profit     |\n",
            "| Storage        |        19538   | Medium Profit     |\n",
            "| Phones         |        28368.3 | High Profit       |\n",
            "| Chairs         |        29815.1 | High Profit       |\n",
            "+----------------+----------------+-------------------+\n"
          ]
        }
      ],
      "source": [
        "#13.Categorize the profit of each product category\n",
        "\n",
        "mycursor.execute('''SELECT sub_category, SUM(profit) AS total_profit,\n",
        "CASE\n",
        "    WHEN SUM(profit) > 25000 then 'High Profit'\n",
        "    WHEN SUM(profit) > 10000 then 'Medium Profit'\n",
        "    ELSE 'Low Profit'\n",
        "END AS profit_category\n",
        "FROM Retail_order_analysis.order_table2\n",
        "GROUP BY sub_category order by total_profit;''')\n",
        "out=mycursor.fetchall()\n",
        "from tabulate import tabulate\n",
        "print(tabulate(out,headers=[i[0] for i in mycursor.description],  tablefmt='psql'))"
      ]
    },
    {
      "cell_type": "code",
      "execution_count": 37,
      "metadata": {
        "colab": {
          "base_uri": "https://localhost:8080/"
        },
        "id": "D-3FFhXYFYPr",
        "outputId": "ccf137bb-19ba-400b-ad49-00a6eef3199f"
      },
      "outputs": [
        {
          "output_type": "stream",
          "name": "stdout",
          "text": [
            "+----------------+--------------+\n",
            "| ship_mode      |   mode_count |\n",
            "|----------------+--------------|\n",
            "| Same Day       |          543 |\n",
            "| Standard Class |         5962 |\n",
            "| 0              |            6 |\n",
            "| Second Class   |         1945 |\n",
            "| First Class    |         1538 |\n",
            "+----------------+--------------+\n"
          ]
        }
      ],
      "source": [
        "#14.Find the number of shipping mode as categorized\n",
        "\n",
        "mycursor.execute('''SELECT ship_mode, COUNT(*) AS mode_count FROM Retail_order_analysis.order_table1 GROUP BY ship_mode;''')\n",
        "out=mycursor.fetchall()\n",
        "from tabulate import tabulate\n",
        "print(tabulate(out,headers=[i[0] for i in mycursor.description],  tablefmt='psql'))"
      ]
    },
    {
      "cell_type": "code",
      "execution_count": 38,
      "metadata": {
        "colab": {
          "base_uri": "https://localhost:8080/"
        },
        "id": "ANckrVPtGFa7",
        "outputId": "35baffd6-e954-4cbf-cc85-5a5b79f2080d"
      },
      "outputs": [
        {
          "output_type": "stream",
          "name": "stdout",
          "text": [
            "+----------------+-----------------+\n",
            "| ship_mode      |   product_count |\n",
            "|----------------+-----------------|\n",
            "| Second Class   |            1206 |\n",
            "| Standard Class |            1773 |\n",
            "| 0              |               6 |\n",
            "| First Class    |            1053 |\n",
            "| Same Day       |             468 |\n",
            "+----------------+-----------------+\n"
          ]
        }
      ],
      "source": [
        "#15.Find the products in different shipping mode\n",
        "\n",
        "mycursor.execute('''SELECT ship_mode, COUNT(DISTINCT product_id) AS product_count FROM Retail_order_analysis.order_table1\n",
        "JOIN Retail_order_analysis.order_table2 ON order_table1.order_id = order_table2.order_id\n",
        "GROUP BY ship_mode;''')\n",
        "out=mycursor.fetchall()\n",
        "from tabulate import tabulate\n",
        "print(tabulate(out,headers=[i[0] for i in mycursor.description],tablefmt='psql'))"
      ]
    },
    {
      "cell_type": "code",
      "execution_count": 39,
      "metadata": {
        "colab": {
          "base_uri": "https://localhost:8080/"
        },
        "id": "ZdjZqatFK0Ng",
        "outputId": "8fdcab87-3eff-4d88-a2a9-8ee9365be51a"
      },
      "outputs": [
        {
          "output_type": "stream",
          "name": "stdout",
          "text": [
            "+-----------------+------------------+\n",
            "| product         |   total_quantity |\n",
            "|-----------------+------------------|\n",
            "| Office Supplies |            22906 |\n",
            "+-----------------+------------------+\n"
          ]
        }
      ],
      "source": [
        "#16. Find the highest product which is ordered\n",
        "\n",
        "mycursor.execute('''SELECT category as product, SUM(quantity) AS total_quantity FROM Retail_order_analysis.order_table2\n",
        "JOIN Retail_order_analysis.order_table1 ON order_table2.order_id = order_table1.order_id\n",
        "GROUP BY category ORDER BY total_quantity DESC LIMIT 1;''')\n",
        "out=mycursor.fetchall()\n",
        "from tabulate import tabulate\n",
        "print(tabulate(out,headers=[i[0] for i in mycursor.description],tablefmt='psql'))"
      ]
    },
    {
      "cell_type": "code",
      "execution_count": 40,
      "metadata": {
        "colab": {
          "base_uri": "https://localhost:8080/"
        },
        "id": "qCKyr4u_RCet",
        "outputId": "c6618e69-d14c-4742-8207-0990e6c9598a"
      },
      "outputs": [
        {
          "output_type": "stream",
          "name": "stdout",
          "text": [
            "+-----------+----------------+\n",
            "| product   |   total_profit |\n",
            "|-----------+----------------|\n",
            "| Tables    |        18591.2 |\n",
            "+-----------+----------------+\n"
          ]
        }
      ],
      "source": [
        "#17. Find the profit from the Table product\n",
        "\n",
        "mycursor.execute('''SELECT sub_category as product, SUM(profit) AS total_profit FROM Retail_order_analysis.order_table2\n",
        "WHERE sub_category = 'Tables' GROUP BY sub_category;''')\n",
        "out=mycursor.fetchall()\n",
        "from tabulate import tabulate\n",
        "print(tabulate(out,headers=[i[0] for i in mycursor.description],tablefmt='psql'))"
      ]
    },
    {
      "cell_type": "code",
      "execution_count": 41,
      "metadata": {
        "colab": {
          "base_uri": "https://localhost:8080/"
        },
        "id": "2s_O8oeFRqjb",
        "outputId": "9c364c6b-fbce-46f5-ccdd-ec6043932722"
      },
      "outputs": [
        {
          "output_type": "stream",
          "name": "stdout",
          "text": [
            "+-----------+------------------+\n",
            "| product   |   Total_quantity |\n",
            "|-----------+------------------|\n",
            "| Paper     |              282 |\n",
            "+-----------+------------------+\n"
          ]
        }
      ],
      "source": [
        "#18. Find the sales quantity of paper in san fransisco\n",
        "\n",
        "mycursor.execute('''SELECT sub_category as product, SUM(quantity) AS Total_quantity FROM Retail_order_analysis.order_table2\n",
        "JOIN Retail_order_analysis.order_table1 ON order_table2.order_id = order_table1.order_id\n",
        "WHERE sub_category = 'Paper' AND city = 'San Francisco';''')\n",
        "out=mycursor.fetchall()\n",
        "from tabulate import tabulate\n",
        "print(tabulate(out,headers=[i[0] for i in mycursor.description],tablefmt='psql'))"
      ]
    },
    {
      "cell_type": "code",
      "execution_count": 42,
      "metadata": {
        "colab": {
          "base_uri": "https://localhost:8080/"
        },
        "id": "ZgXSyb-3Swqu",
        "outputId": "b971f414-86d7-454a-b2af-532d474f4f81"
      },
      "outputs": [
        {
          "output_type": "stream",
          "name": "stdout",
          "text": [
            "+---------------+---------------+------------------+\n",
            "|   postal_code | city          |   Total_quantity |\n",
            "|---------------+---------------+------------------|\n",
            "|         94122 | San Francisco |               91 |\n",
            "|         10009 | New York City |               84 |\n",
            "|         10035 | New York City |               83 |\n",
            "|         90049 | Los Angeles   |               61 |\n",
            "|         10024 | New York City |               50 |\n",
            "+---------------+---------------+------------------+\n"
          ]
        }
      ],
      "source": [
        "#19. find the postal code & city of top 5 sales in Art order\n",
        "\n",
        "mycursor.execute('''SELECT postal_code, city, SUM(quantity) AS Total_quantity FROM Retail_order_analysis.order_table2\n",
        "JOIN Retail_order_analysis.order_table1 ON order_table2.order_id = order_table1.order_id\n",
        "WHERE sub_category = 'Art' GROUP BY postal_code, city ORDER BY Total_quantity DESC LIMIT 5;''')\n",
        "out=mycursor.fetchall()\n",
        "from tabulate import tabulate\n",
        "print(tabulate(out,headers=[i[0] for i in mycursor.description],tablefmt='psql'))"
      ]
    },
    {
      "cell_type": "code",
      "execution_count": 43,
      "metadata": {
        "colab": {
          "base_uri": "https://localhost:8080/"
        },
        "id": "up3DKizoVmte",
        "outputId": "f8a1ece3-5453-484e-cd8e-97d9a0261c24"
      },
      "outputs": [
        {
          "output_type": "stream",
          "name": "stdout",
          "text": [
            "+-----------+----------------+\n",
            "| segment   |   sub_category |\n",
            "|-----------+----------------|\n",
            "| Consumer  |            408 |\n",
            "+-----------+----------------+\n"
          ]
        }
      ],
      "source": [
        "#20. Check how much accessories have been purchased by Consumer\n",
        "\n",
        "mycursor.execute('''SELECT segment, COUNT(*) sub_category FROM Retail_order_analysis.order_table2\n",
        "JOIN Retail_order_analysis.order_table1 ON order_table2.order_id = order_table1.order_id\n",
        "WHERE segment = 'Consumer' AND sub_category = 'Accessories';''')\n",
        "out=mycursor.fetchall()\n",
        "from tabulate import tabulate\n",
        "print(tabulate(out,headers=[i[0] for i in mycursor.description],tablefmt='psql'))"
      ]
    },
    {
      "cell_type": "code",
      "execution_count": 44,
      "metadata": {
        "colab": {
          "base_uri": "https://localhost:8080/"
        },
        "id": "0bWnx-yF_D-p",
        "outputId": "4d41110a-d257-4261-e455-4b0089bfb131"
      },
      "outputs": [
        {
          "output_type": "stream",
          "name": "stdout",
          "text": [
            "Collecting streamlit\n",
            "  Downloading streamlit-1.43.2-py2.py3-none-any.whl.metadata (8.9 kB)\n",
            "Requirement already satisfied: altair<6,>=4.0 in /usr/local/lib/python3.11/dist-packages (from streamlit) (5.5.0)\n",
            "Requirement already satisfied: blinker<2,>=1.0.0 in /usr/local/lib/python3.11/dist-packages (from streamlit) (1.9.0)\n",
            "Requirement already satisfied: cachetools<6,>=4.0 in /usr/local/lib/python3.11/dist-packages (from streamlit) (5.5.2)\n",
            "Requirement already satisfied: click<9,>=7.0 in /usr/local/lib/python3.11/dist-packages (from streamlit) (8.1.8)\n",
            "Requirement already satisfied: numpy<3,>=1.23 in /usr/local/lib/python3.11/dist-packages (from streamlit) (2.0.2)\n",
            "Requirement already satisfied: packaging<25,>=20 in /usr/local/lib/python3.11/dist-packages (from streamlit) (24.2)\n",
            "Requirement already satisfied: pandas<3,>=1.4.0 in /usr/local/lib/python3.11/dist-packages (from streamlit) (2.2.2)\n",
            "Requirement already satisfied: pillow<12,>=7.1.0 in /usr/local/lib/python3.11/dist-packages (from streamlit) (11.1.0)\n",
            "Requirement already satisfied: protobuf<6,>=3.20 in /usr/local/lib/python3.11/dist-packages (from streamlit) (5.29.3)\n",
            "Requirement already satisfied: pyarrow>=7.0 in /usr/local/lib/python3.11/dist-packages (from streamlit) (18.1.0)\n",
            "Requirement already satisfied: requests<3,>=2.27 in /usr/local/lib/python3.11/dist-packages (from streamlit) (2.32.3)\n",
            "Requirement already satisfied: tenacity<10,>=8.1.0 in /usr/local/lib/python3.11/dist-packages (from streamlit) (9.0.0)\n",
            "Requirement already satisfied: toml<2,>=0.10.1 in /usr/local/lib/python3.11/dist-packages (from streamlit) (0.10.2)\n",
            "Requirement already satisfied: typing-extensions<5,>=4.4.0 in /usr/local/lib/python3.11/dist-packages (from streamlit) (4.12.2)\n",
            "Collecting watchdog<7,>=2.1.5 (from streamlit)\n",
            "  Downloading watchdog-6.0.0-py3-none-manylinux2014_x86_64.whl.metadata (44 kB)\n",
            "\u001b[2K     \u001b[90m━━━━━━━━━━━━━━━━━━━━━━━━━━━━━━━━━━━━━━━━\u001b[0m \u001b[32m44.3/44.3 kB\u001b[0m \u001b[31m2.5 MB/s\u001b[0m eta \u001b[36m0:00:00\u001b[0m\n",
            "\u001b[?25hRequirement already satisfied: gitpython!=3.1.19,<4,>=3.0.7 in /usr/local/lib/python3.11/dist-packages (from streamlit) (3.1.44)\n",
            "Collecting pydeck<1,>=0.8.0b4 (from streamlit)\n",
            "  Downloading pydeck-0.9.1-py2.py3-none-any.whl.metadata (4.1 kB)\n",
            "Requirement already satisfied: tornado<7,>=6.0.3 in /usr/local/lib/python3.11/dist-packages (from streamlit) (6.4.2)\n",
            "Requirement already satisfied: jinja2 in /usr/local/lib/python3.11/dist-packages (from altair<6,>=4.0->streamlit) (3.1.6)\n",
            "Requirement already satisfied: jsonschema>=3.0 in /usr/local/lib/python3.11/dist-packages (from altair<6,>=4.0->streamlit) (4.23.0)\n",
            "Requirement already satisfied: narwhals>=1.14.2 in /usr/local/lib/python3.11/dist-packages (from altair<6,>=4.0->streamlit) (1.31.0)\n",
            "Requirement already satisfied: gitdb<5,>=4.0.1 in /usr/local/lib/python3.11/dist-packages (from gitpython!=3.1.19,<4,>=3.0.7->streamlit) (4.0.12)\n",
            "Requirement already satisfied: python-dateutil>=2.8.2 in /usr/local/lib/python3.11/dist-packages (from pandas<3,>=1.4.0->streamlit) (2.8.2)\n",
            "Requirement already satisfied: pytz>=2020.1 in /usr/local/lib/python3.11/dist-packages (from pandas<3,>=1.4.0->streamlit) (2025.1)\n",
            "Requirement already satisfied: tzdata>=2022.7 in /usr/local/lib/python3.11/dist-packages (from pandas<3,>=1.4.0->streamlit) (2025.1)\n",
            "Requirement already satisfied: charset-normalizer<4,>=2 in /usr/local/lib/python3.11/dist-packages (from requests<3,>=2.27->streamlit) (3.4.1)\n",
            "Requirement already satisfied: idna<4,>=2.5 in /usr/local/lib/python3.11/dist-packages (from requests<3,>=2.27->streamlit) (3.10)\n",
            "Requirement already satisfied: urllib3<3,>=1.21.1 in /usr/local/lib/python3.11/dist-packages (from requests<3,>=2.27->streamlit) (2.3.0)\n",
            "Requirement already satisfied: certifi>=2017.4.17 in /usr/local/lib/python3.11/dist-packages (from requests<3,>=2.27->streamlit) (2025.1.31)\n",
            "Requirement already satisfied: smmap<6,>=3.0.1 in /usr/local/lib/python3.11/dist-packages (from gitdb<5,>=4.0.1->gitpython!=3.1.19,<4,>=3.0.7->streamlit) (5.0.2)\n",
            "Requirement already satisfied: MarkupSafe>=2.0 in /usr/local/lib/python3.11/dist-packages (from jinja2->altair<6,>=4.0->streamlit) (3.0.2)\n",
            "Requirement already satisfied: attrs>=22.2.0 in /usr/local/lib/python3.11/dist-packages (from jsonschema>=3.0->altair<6,>=4.0->streamlit) (25.3.0)\n",
            "Requirement already satisfied: jsonschema-specifications>=2023.03.6 in /usr/local/lib/python3.11/dist-packages (from jsonschema>=3.0->altair<6,>=4.0->streamlit) (2024.10.1)\n",
            "Requirement already satisfied: referencing>=0.28.4 in /usr/local/lib/python3.11/dist-packages (from jsonschema>=3.0->altair<6,>=4.0->streamlit) (0.36.2)\n",
            "Requirement already satisfied: rpds-py>=0.7.1 in /usr/local/lib/python3.11/dist-packages (from jsonschema>=3.0->altair<6,>=4.0->streamlit) (0.23.1)\n",
            "Requirement already satisfied: six>=1.5 in /usr/local/lib/python3.11/dist-packages (from python-dateutil>=2.8.2->pandas<3,>=1.4.0->streamlit) (1.17.0)\n",
            "Downloading streamlit-1.43.2-py2.py3-none-any.whl (9.7 MB)\n",
            "\u001b[2K   \u001b[90m━━━━━━━━━━━━━━━━━━━━━━━━━━━━━━━━━━━━━━━━\u001b[0m \u001b[32m9.7/9.7 MB\u001b[0m \u001b[31m21.7 MB/s\u001b[0m eta \u001b[36m0:00:00\u001b[0m\n",
            "\u001b[?25hDownloading pydeck-0.9.1-py2.py3-none-any.whl (6.9 MB)\n",
            "\u001b[2K   \u001b[90m━━━━━━━━━━━━━━━━━━━━━━━━━━━━━━━━━━━━━━━━\u001b[0m \u001b[32m6.9/6.9 MB\u001b[0m \u001b[31m32.0 MB/s\u001b[0m eta \u001b[36m0:00:00\u001b[0m\n",
            "\u001b[?25hDownloading watchdog-6.0.0-py3-none-manylinux2014_x86_64.whl (79 kB)\n",
            "\u001b[2K   \u001b[90m━━━━━━━━━━━━━━━━━━━━━━━━━━━━━━━━━━━━━━━━\u001b[0m \u001b[32m79.1/79.1 kB\u001b[0m \u001b[31m5.0 MB/s\u001b[0m eta \u001b[36m0:00:00\u001b[0m\n",
            "\u001b[?25hInstalling collected packages: watchdog, pydeck, streamlit\n",
            "Successfully installed pydeck-0.9.1 streamlit-1.43.2 watchdog-6.0.0\n"
          ]
        }
      ],
      "source": [
        "!pip install streamlit"
      ]
    },
    {
      "cell_type": "code",
      "execution_count": 78,
      "metadata": {
        "colab": {
          "base_uri": "https://localhost:8080/"
        },
        "id": "_-mih2yUSIKD",
        "outputId": "613c23d2-88c1-4ba9-f3ca-27bd47799d84"
      },
      "outputs": [
        {
          "output_type": "stream",
          "name": "stdout",
          "text": [
            "Overwriting app.py\n"
          ]
        }
      ],
      "source": [
        "#Streamlit\n",
        "%%writefile app.py\n",
        "import streamlit as st\n",
        "import pandas as pd\n",
        "import mysql.connector\n",
        "from tabulate import tabulate\n",
        "\n",
        "connection = mysql.connector.connect(\n",
        "  host = \"gateway01.ap-southeast-1.prod.aws.tidbcloud.com\",\n",
        "  port = 4000,\n",
        "  user = \"42gLBzNbmFpVnrp.root\",\n",
        "  password = \"M4zJcGITE38JycpJ\",\n",
        "  database = \"Retail_Order_Analysis\",\n",
        ")\n",
        "\n",
        "mycursor = connection.cursor()\n",
        "\n",
        "\n",
        "st.title(\"Retail Order Analysis\")\n",
        "st.subheader(\"Choose a Internal Mentor Query\")\n",
        "question = st.selectbox(\n",
        "    \"Select a Question\",\n",
        "    [\n",
        "        \"Find top 10 highest revenue generating products\",\n",
        "        \"Find the top 5 cities with the highest profit margins\",\n",
        "        \"Calculate the total discount given for each category\",\n",
        "        \"Find the average sale price per product category\",\n",
        "        \"Find the region with the highest average sale price\",\n",
        "        \"Find the total profit per category\",\n",
        "        \"Identify the top 3 segments with the highest quantity of orders\",\n",
        "        \"Determine the average discount percentage given per region\",\n",
        "        \"Find the product category with the highest total profit\",\n",
        "        \"Calculate the total revenue generated per year\"\n",
        "    ]\n",
        ")\n",
        "\n",
        "sql_queries = {\n",
        "    \"Find top 10 highest revenue generating products\": '''SELECT product_id, SUM(sale_price) AS total_revenue FROM order_table2\n",
        "    GROUP BY product_id ORDER BY total_revenue DESC LIMIT 10;''',\n",
        "    \"Find the top 5 cities with the highest profit margins\":'''SELECT city, SUM(profit) AS total_profit FROM order_table1\n",
        "    JOIN order_table2 ON order_table1.order_id = order_table2.order_id GROUP BY city ORDER BY total_profit DESC LIMIT 5;''',\n",
        "    \"Calculate the total discount given for each category\": '''SELECT category, SUM(discount_amount) AS total_discount FROM order_table1\n",
        "    JOIN order_table2 ON order_table1.order_id = order_table2.order_id GROUP BY category;''',\n",
        "    \"Find the average sale price per product category\": '''SELECT category, AVG(sale_price) AS average_sale_price\n",
        "    FROM Retail_order_analysis.order_table2 JOIN order_table1 ON order_table2.order_id = order_table1.order_id GROUP BY category;''',\n",
        "    \"Find the region with the highest average sale price\": '''SELECT region, AVG(sale_price) AS avg_sale_price FROM Retail_order_analysis.order_table2\n",
        "    JOIN order_table1 ON order_table2.order_id = order_table1.order_id GROUP BY region;''',\n",
        "    \"Find the total profit per category\": '''SELECT category, sum(profit) as overall_profit FROM Retail_order_analysis.order_table2\n",
        "    JOIN order_table1 ON order_table2.order_id = order_table1.order_id GROUP BY category;''',\n",
        "    \"Identify the top 3 segments with the highest quantity of orders\": '''SELECT segment, SUM(quantity) AS total_quantity FROM Retail_order_analysis.order_table2\n",
        "    JOIN order_table1 ON order_table2.order_id = order_table1.order_id GROUP BY segment ORDER BY total_quantity DESC LIMIT 3;''',\n",
        "    \"Determine the average discount percentage given per region\": '''SELECT region, AVG(discount_percent) AS avg_discount_percent FROM Retail_order_analysis.order_table2\n",
        "    JOIN order_table1 ON order_table2.order_id = order_table1.order_id GROUP BY region;''',\n",
        "    \"Find the product category with the highest total profit\": '''SELECT sub_category as product_category, SUM(profit) AS total_profit FROM Retail_order_analysis.order_table2\n",
        "    GROUP BY sub_category;''',\n",
        "    \"Calculate the total revenue generated per year\": '''SELECT YEAR(order_date) AS order_year, CONCAT('$', FORMAT(SUM(sale_price), 2))AS total_revenue\n",
        "    FROM Retail_order_analysis.order_table2 JOIN order_table1 ON order_table2.order_id = order_table1.order_id GROUP BY YEAR(order_date);'''\n",
        "}\n",
        "\n",
        "st.code(sql_queries[question], language=\"sql\")\n",
        "\n",
        "def run_query(query):\n",
        "    mycursor.execute(query)\n",
        "    columns = [col[0] for col in mycursor.description]\n",
        "    data = mycursor.fetchall()\n",
        "    return pd.DataFrame(data, columns=columns)\n",
        "\n",
        "if st.button(\"Run Query\"):\n",
        "    result = run_query(sql_queries[question])\n",
        "    if not result.empty:\n",
        "        st.write(\"### Result:\")\n",
        "        st.dataframe(result)\n",
        "    else:\n",
        "        st.write(\"No data found.\")\n",
        "\n",
        "#Learner Queries\n",
        "st.subheader(\"Choose a Learner Query\")\n",
        "question1 = st.selectbox(\n",
        "    \"Select a Question\",\n",
        "    [\n",
        "        \"Find the top 5 state with the highest phone sales\",\n",
        "        \"Find the product which has highest profit\",\n",
        "        \"Categorize the profit of each product category\",\n",
        "        \"Find the number of shipping mode as categorized\",\n",
        "        \"Find the products in different shipping mode\",\n",
        "        \"Find the highest product which is ordered\",\n",
        "        \"Find the profit from the Table product\",\n",
        "        \"Find the sales quantity of paper in san fransisco\",\n",
        "        \"Find the postal code & city of top 5 sales in Art order\",\n",
        "        \"Check how much accessories have been purchased by Consumer\"\n",
        "    ]\n",
        ")\n",
        "\n",
        "sql_queries1 = {\n",
        "    \"Find the top 5 state with the highest phone sales\": '''SELECT state, SUM(quantity) AS total_phone_sales\n",
        "    FROM Retail_order_analysis.order_table2 JOIN order_table1 ON order_table2.order_id = order_table1.order_id\n",
        "    WHERE sub_category = 'Phones' GROUP BY state ORDER BY total_phone_sales DESC LIMIT 5;''',\n",
        "    \"Find the product which has highest profit\": '''SELECT product_id, SUM(profit) AS total_profit\n",
        "    FROM Retail_order_analysis.order_table2 GROUP BY product_id order by total_profit DESC LIMIT 1;''',\n",
        "    \"Categorize the profit of each product category\": '''SELECT sub_category, SUM(profit) AS total_profit,\n",
        "    CASE\n",
        "    WHEN SUM(profit) > 25000 then 'High Profit'\n",
        "    WHEN SUM(profit) > 10000 then 'Medium Profit'\n",
        "    ELSE 'Low Profit' END AS profit_category FROM Retail_order_analysis.order_table2 GROUP BY sub_category order by total_profit;''',\n",
        "    \"Find the number of shipping mode as categorized\": '''SELECT ship_mode, COUNT(*) AS mode_count FROM Retail_order_analysis.order_table1\n",
        "    GROUP BY ship_mode;''',\n",
        "    \"Find the products in different shipping mode\": '''SELECT ship_mode, COUNT(DISTINCT product_id) AS product_count\n",
        "    FROM Retail_order_analysis.order_table1 JOIN Retail_order_analysis.order_table2 ON order_table1.order_id = order_table2.order_id\n",
        "    GROUP BY ship_mode;''',\n",
        "    \"Find the highest product which is ordered\": '''SELECT category as product, SUM(quantity) AS total_quantity FROM Retail_order_analysis.order_table2\n",
        "    JOIN Retail_order_analysis.order_table1 ON order_table2.order_id = order_table1.order_id\n",
        "    GROUP BY category ORDER BY total_quantity DESC LIMIT 1;''',\n",
        "    \"Find the profit from the Table product\": '''SELECT sub_category as product, SUM(profit) AS total_profit FROM Retail_order_analysis.order_table2\n",
        "    WHERE sub_category = 'Tables' GROUP BY sub_category;''',\n",
        "    \"Find the sales quantity of paper in san fransisco\": '''SELECT sub_category as product, SUM(quantity) AS Total_quantity\n",
        "    FROM Retail_order_analysis.order_table2 JOIN Retail_order_analysis.order_table1 ON order_table2.order_id = order_table1.order_id\n",
        "    WHERE sub_category = 'Paper' AND city = 'San Francisco';''',\n",
        "    \"Find the postal code & city of top 5 sales in Art order\": '''SELECT postal_code, city, SUM(quantity) AS Total_quantity\n",
        "    FROM Retail_order_analysis.order_table2 JOIN Retail_order_analysis.order_table1 ON order_table2.order_id = order_table1.order_id\n",
        "    WHERE sub_category = 'Art' GROUP BY postal_code, city ORDER BY Total_quantity DESC LIMIT 5;''',\n",
        "    \"Check how much accessories have been purchased by Consumer\": '''SELECT segment, COUNT(*) sub_category FROM Retail_order_analysis.order_table2\n",
        "    JOIN Retail_order_analysis.order_table1 ON order_table2.order_id = order_table1.order_id WHERE segment = 'Consumer' AND sub_category = 'Accessories';'''\n",
        "}\n",
        "\n",
        "st.code(sql_queries1[question1], language=\"sql\")\n",
        "\n",
        "def run_query1(query):\n",
        "    mycursor.execute(query)\n",
        "    columns = [col[0] for col in mycursor.description]\n",
        "    data = mycursor.fetchall()\n",
        "    return pd.DataFrame(data, columns=columns)\n",
        "\n",
        "if st.button(\"Run Query\", key=\"predefined_query\"):\n",
        "    result = run_query(sql_queries1[question1])\n",
        "    if not result.empty:\n",
        "        st.write(\"### Result:\")\n",
        "        st.dataframe(result)\n",
        "    else:\n",
        "        st.write(\"No data found.\")"
      ]
    },
    {
      "cell_type": "code",
      "execution_count": 54,
      "metadata": {
        "colab": {
          "base_uri": "https://localhost:8080/"
        },
        "id": "fW3HLIP4SHQr",
        "outputId": "24ee251b-5ac8-4e5d-d2df-1a2eda0f50b6"
      },
      "outputs": [
        {
          "output_type": "stream",
          "name": "stdout",
          "text": [
            "\n",
            "Collecting usage statistics. To deactivate, set browser.gatherUsageStats to false.\n",
            "\u001b[0m\n",
            "\u001b[0m\n",
            "\u001b[34m\u001b[1m  You can now view your Streamlit app in your browser.\u001b[0m\n",
            "\u001b[0m\n",
            "\u001b[34m  Local URL: \u001b[0m\u001b[1mhttp://localhost:8501\u001b[0m\n",
            "\u001b[34m  Network URL: \u001b[0m\u001b[1mhttp://172.28.0.12:8501\u001b[0m\n",
            "\u001b[34m  External URL: \u001b[0m\u001b[1mhttp://34.67.31.251:8501\u001b[0m\n",
            "\u001b[0m\n",
            "\u001b[34m  Stopping...\u001b[0m\n",
            "\u001b[34m  Stopping...\u001b[0m\n"
          ]
        }
      ],
      "source": [
        "!streamlit run app.py"
      ]
    },
    {
      "cell_type": "code",
      "execution_count": 51,
      "metadata": {
        "colab": {
          "base_uri": "https://localhost:8080/"
        },
        "id": "vn9ejFs1SMOj",
        "outputId": "324e27e9-c1fb-4b76-b69f-941605db5733"
      },
      "outputs": [
        {
          "output_type": "stream",
          "name": "stdout",
          "text": [
            "Authtoken saved to configuration file: /root/.config/ngrok/ngrok.yml\n"
          ]
        }
      ],
      "source": [
        "!pip install streamlit pyngrok --quiet\n",
        "!ngrok authtoken 2tI3SHHlTtVuCkq1dx6GmkNGE6I_yiyjjPd9HKXHTkwBKczc"
      ]
    },
    {
      "cell_type": "code",
      "execution_count": 79,
      "metadata": {
        "colab": {
          "base_uri": "https://localhost:8080/"
        },
        "id": "ifm7uIozSSTb",
        "outputId": "3e9ed305-754d-4539-bd34-d974f66231d8"
      },
      "outputs": [
        {
          "output_type": "stream",
          "name": "stdout",
          "text": [
            "Streamlit is running at: NgrokTunnel: \"https://ea4b-34-67-31-251.ngrok-free.app\" -> \"http://localhost:8501\"\n",
            "\n",
            "Collecting usage statistics. To deactivate, set browser.gatherUsageStats to false.\n",
            "\u001b[0m\n",
            "\u001b[0m\n",
            "\u001b[34m\u001b[1m  You can now view your Streamlit app in your browser.\u001b[0m\n",
            "\u001b[0m\n",
            "\u001b[34m  Local URL: \u001b[0m\u001b[1mhttp://localhost:8501\u001b[0m\n",
            "\u001b[34m  Network URL: \u001b[0m\u001b[1mhttp://172.28.0.12:8501\u001b[0m\n",
            "\u001b[34m  External URL: \u001b[0m\u001b[1mhttp://34.67.31.251:8501\u001b[0m\n",
            "\u001b[0m\n",
            "\u001b[34m  Stopping...\u001b[0m\n",
            "\u001b[34m  Stopping...\u001b[0m\n",
            "Streamlit is running at: NgrokTunnel: \"https://0bc2-34-67-31-251.ngrok-free.app\" -> \"http://localhost:8501\"\n"
          ]
        }
      ],
      "source": [
        "import os\n",
        "import time\n",
        "from pyngrok import ngrok\n",
        "#expose the port using ngrok\n",
        "public_url = ngrok.connect(8501)\n",
        "print(f\"Streamlit is running at: {public_url}\")\n",
        "\n",
        "#start streamlit in the background\n",
        "!streamlit run app.py --server.port 8501\n",
        "\n",
        "#wait for streamlit to start\n",
        "time.sleep(5)\n",
        "\n",
        "#expose the port using ngrok\n",
        "public_url = ngrok.connect(8501)\n",
        "print(f\"Streamlit is running at: {public_url}\")"
      ]
    }
  ],
  "metadata": {
    "colab": {
      "provenance": [],
      "authorship_tag": "ABX9TyNJ0XyX2KkW4ZF8Ez9sdDBr",
      "include_colab_link": true
    },
    "kernelspec": {
      "display_name": "Python 3",
      "name": "python3"
    },
    "language_info": {
      "name": "python"
    }
  },
  "nbformat": 4,
  "nbformat_minor": 0
}